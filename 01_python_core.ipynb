{
  "nbformat": 4,
  "nbformat_minor": 0,
  "metadata": {
    "colab": {
      "provenance": [],
      "authorship_tag": "ABX9TyNeOMtVh8jbm5RXkzPHdC9v",
      "include_colab_link": true
    },
    "kernelspec": {
      "name": "python3",
      "display_name": "Python 3"
    },
    "language_info": {
      "name": "python"
    }
  },
  "cells": [
    {
      "cell_type": "markdown",
      "metadata": {
        "id": "view-in-github",
        "colab_type": "text"
      },
      "source": [
        "<a href=\"https://colab.research.google.com/github/mina64-y/python_basic/blob/main/01_python_core.ipynb\" target=\"_parent\"><img src=\"https://colab.research.google.com/assets/colab-badge.svg\" alt=\"Open In Colab\"/></a>"
      ]
    },
    {
      "cell_type": "code",
      "execution_count": null,
      "metadata": {
        "colab": {
          "base_uri": "https://localhost:8080/"
        },
        "id": "XgpWMyhDWGTn",
        "outputId": "44ee37b7-646e-4ce8-e4c8-d72ab713b706"
      },
      "outputs": [
        {
          "output_type": "stream",
          "name": "stdout",
          "text": [
            "10\n",
            "10\n",
            "주소값 대입 133728427655696\n",
            "133728427655696\n",
            "20\n",
            "10\n",
            "주소값대입 133728427656016\n",
            "133728427655696\n"
          ]
        },
        {
          "output_type": "execute_result",
          "data": {
            "text/plain": [
              "(None, None)"
            ]
          },
          "metadata": {},
          "execution_count": 1
        }
      ],
      "source": [
        "# 주석\n",
        "# 파이썬은 데이터타입을 지정하지 않음\n",
        "# 변수는 주소로 컴파일됨\n",
        "# 전역변수 영역에 저장\n",
        "a=10\n",
        "b=a   #주소가 넘어감\n",
        "print(a) # 고급언어 (추상화되어 있음)\n",
        "print(b)\n",
        "print(\"주소값 대입\", id(a)), print(id(b)) #동일한 주소\n",
        "a=20\n",
        "print(a)\n",
        "print(b)\n",
        "print('주소값대입', id(a)), print(id(b)) #주소 값이 다름"
      ]
    },
    {
      "cell_type": "code",
      "source": [
        "#c라는 변수를 초기화하지 않음( 파이썬에서는 초기화 되지 않은 변수를 사용하면 안 됨)\n",
        "#주소값을 포인터:\n",
        "#프로그램 규칙상: 초기화 되지 않은 포인터를 사용하면 에러가 발생\n",
        "c=100\n",
        "print(c)"
      ],
      "metadata": {
        "id": "Cl-gU_EEWN5K",
        "outputId": "bcb2706a-15c7-431b-9a5e-97f15bd8d554",
        "colab": {
          "base_uri": "https://localhost:8080/"
        }
      },
      "execution_count": null,
      "outputs": [
        {
          "output_type": "stream",
          "name": "stdout",
          "text": [
            "100\n"
          ]
        }
      ]
    },
    {
      "cell_type": "markdown",
      "source": [
        "파이썬 코어\n",
        "\n",
        "\n",
        "*   파이썬의 변수는 주소를 담고 있음\n",
        "*   변수를 대입하면 변수의 주소를 넘김\n",
        "\n",
        "\n"
      ],
      "metadata": {
        "id": "ljHU-ILJWUGR"
      }
    },
    {
      "cell_type": "markdown",
      "source": [
        "# 파이썬은 데이터타입을 지정하지 않음\n",
        "- 변수에 데이터가 입력되는 것이 아니라 주소가 저장\n",
        "- 데이터타입은 있음\n",
        "  - 숫자: int(정수),float(부동소수점), complex(복소수)\n",
        "  - 문자: str(배열(연속적 메모리 공간, 동직적 데이터) 형태처리)\n",
        "  -불(bool) 자료형 : True / False\n"
      ],
      "metadata": {
        "id": "yD9RY3JHXWCY"
      }
    },
    {
      "cell_type": "code",
      "source": [
        "a = 10\n",
        "type(a)"
      ],
      "metadata": {
        "colab": {
          "base_uri": "https://localhost:8080/"
        },
        "id": "zrYy1EQgYGrA",
        "outputId": "c64b784c-48ba-4fa9-9239-0f8b09a180e5"
      },
      "execution_count": null,
      "outputs": [
        {
          "output_type": "execute_result",
          "data": {
            "text/plain": [
              "int"
            ]
          },
          "metadata": {},
          "execution_count": 12
        }
      ]
    },
    {
      "cell_type": "markdown",
      "source": [
        "# python에서는 변수도 객체(class)"
      ],
      "metadata": {
        "id": "ynRdwJ3iYM7I"
      }
    },
    {
      "cell_type": "code",
      "source": [
        "# 1바이트는 8비트\n",
        "a.bit_length()  #4바이트 => 32비트"
      ],
      "metadata": {
        "colab": {
          "base_uri": "https://localhost:8080/"
        },
        "id": "n5RwEvUjYU0H",
        "outputId": "bb052b65-de40-4d56-97fa-7487da1f25da"
      },
      "execution_count": null,
      "outputs": [
        {
          "output_type": "execute_result",
          "data": {
            "text/plain": [
              "4"
            ]
          },
          "metadata": {},
          "execution_count": 13
        }
      ]
    },
    {
      "cell_type": "code",
      "source": [
        "# 문제 float형 변수를 선언하고 3.141592(pi)를 저장하고 몇바이트 저장공간이 필요한지 확인하시요\n",
        "# 시스템에 따라 사이즈 달라짐\n",
        "a = 3.141592\n",
        "type(a)\n",
        "a\n",
        "import sys # 패키지를 임포트\n",
        "size = sys.getsizeof(a)\n",
        "print(size) # 24바이트"
      ],
      "metadata": {
        "colab": {
          "base_uri": "https://localhost:8080/"
        },
        "id": "UjOSPeTqY05I",
        "outputId": "6765328d-91ee-4954-b5a8-62d39f7f9045"
      },
      "execution_count": null,
      "outputs": [
        {
          "output_type": "stream",
          "name": "stdout",
          "text": [
            "24\n"
          ]
        }
      ]
    },
    {
      "cell_type": "markdown",
      "source": [
        "# 파이썬은 대소문자를 구분"
      ],
      "metadata": {
        "id": "kjehBw6FbjCW"
      }
    },
    {
      "cell_type": "code",
      "source": [
        "a =10\n",
        "A = 20\n",
        "print(a)\n",
        "print(A)"
      ],
      "metadata": {
        "colab": {
          "base_uri": "https://localhost:8080/"
        },
        "id": "rsR8AkKZbnAW",
        "outputId": "6e94a899-f5fa-4e3f-fd60-089dda5f8627"
      },
      "execution_count": null,
      "outputs": [
        {
          "output_type": "stream",
          "name": "stdout",
          "text": [
            "10\n",
            "20\n"
          ]
        }
      ]
    },
    {
      "cell_type": "code",
      "source": [
        "# 입출력은 문자열로\n",
        "problem = input('수식을 입력하시요')\n",
        "print(problem) # 문자열(str)\n",
        "# print(problem+100) # 데이터 타입이 같아야 더할 수 있음\n",
        "print(eval(problem)) # 정수 100"
      ],
      "metadata": {
        "colab": {
          "base_uri": "https://localhost:8080/"
        },
        "id": "tsXwuf8fb3aH",
        "outputId": "e592f6d6-43ee-4e3a-de14-457a2069a2ef"
      },
      "execution_count": null,
      "outputs": [
        {
          "output_type": "stream",
          "name": "stdout",
          "text": [
            "수식을 입력하시요100+200+300\n",
            "100+200+300\n",
            "600\n"
          ]
        }
      ]
    },
    {
      "cell_type": "code",
      "source": [
        "type(problem)"
      ],
      "metadata": {
        "colab": {
          "base_uri": "https://localhost:8080/"
        },
        "id": "J9JqyS2ycjbn",
        "outputId": "0647e0a0-a776-46cc-e48a-38a0122454ce"
      },
      "execution_count": null,
      "outputs": [
        {
          "output_type": "execute_result",
          "data": {
            "text/plain": [
              "str"
            ]
          },
          "metadata": {},
          "execution_count": 28
        }
      ]
    },
    {
      "cell_type": "code",
      "source": [
        "\"abc\"+\"def\"\n"
      ],
      "metadata": {
        "colab": {
          "base_uri": "https://localhost:8080/",
          "height": 35
        },
        "id": "7pIceKJKc2in",
        "outputId": "08a8d565-21a1-4576-f015-2675fda79e41"
      },
      "execution_count": null,
      "outputs": [
        {
          "output_type": "execute_result",
          "data": {
            "text/plain": [
              "'abcdef'"
            ],
            "application/vnd.google.colaboratory.intrinsic+json": {
              "type": "string"
            }
          },
          "metadata": {},
          "execution_count": 29
        }
      ]
    },
    {
      "cell_type": "code",
      "source": [],
      "metadata": {
        "id": "Eq6duOLEp0xp"
      },
      "execution_count": null,
      "outputs": []
    },
    {
      "cell_type": "markdown",
      "source": [
        "# casting\n",
        "\n",
        "- 문자열을 만들때는 ',\"을 사용"
      ],
      "metadata": {
        "id": "59xRZAwKdQMO"
      }
    },
    {
      "cell_type": "code",
      "source": [
        "print(int('23'))\n",
        "print(float('23.2'))\n",
        "x = 5\n",
        "print(eval(\" 23 + (2*x) \"))"
      ],
      "metadata": {
        "colab": {
          "base_uri": "https://localhost:8080/"
        },
        "id": "WucRfvrFdUn1",
        "outputId": "d426c7e1-be65-474e-867b-28d7f2649b79"
      },
      "execution_count": null,
      "outputs": [
        {
          "output_type": "stream",
          "name": "stdout",
          "text": [
            "23\n",
            "23.2\n",
            "33\n"
          ]
        }
      ]
    },
    {
      "cell_type": "code",
      "source": [
        "a3 = 4.24e-3  # 지수형\n",
        "# 컴퓨터는 2진수 -> 8진수, 16진수 -> 10진수\n",
        "# e-3\n",
        "a4 = 0o177 #8진수\n",
        "print(a3)\n",
        "print(a4)"
      ],
      "metadata": {
        "colab": {
          "base_uri": "https://localhost:8080/"
        },
        "id": "NPTZWZL_eIQG",
        "outputId": "fccf565f-070f-4c99-e9fa-ba0cc9235a55"
      },
      "execution_count": null,
      "outputs": [
        {
          "output_type": "stream",
          "name": "stdout",
          "text": [
            "0.00424\n",
            "127\n"
          ]
        }
      ]
    },
    {
      "cell_type": "code",
      "source": [
        "# 177(8진수)을 수식으로 10진수로 바꾸시요\n",
        "((1*8 **2) + (7 * 8 **1) + (7*8**0))"
      ],
      "metadata": {
        "colab": {
          "base_uri": "https://localhost:8080/"
        },
        "id": "l0ty12kIfd8Y",
        "outputId": "35149a40-85ee-4946-bd79-54a6e458ae6f"
      },
      "execution_count": null,
      "outputs": [
        {
          "output_type": "execute_result",
          "data": {
            "text/plain": [
              "127"
            ]
          },
          "metadata": {},
          "execution_count": 37
        }
      ]
    },
    {
      "cell_type": "code",
      "source": [
        "64 + 56 + 7"
      ],
      "metadata": {
        "colab": {
          "base_uri": "https://localhost:8080/"
        },
        "id": "dI9Tk0WAgPrF",
        "outputId": "e7b635c1-ec5f-43c0-a93b-a19763ac34d5"
      },
      "execution_count": null,
      "outputs": [
        {
          "output_type": "execute_result",
          "data": {
            "text/plain": [
              "127"
            ]
          },
          "metadata": {},
          "execution_count": 38
        }
      ]
    },
    {
      "cell_type": "markdown",
      "source": [
        "문자열 출력\n",
        "- s : string,  i : int"
      ],
      "metadata": {
        "id": "QEpXoFpdgXGm"
      }
    },
    {
      "cell_type": "code",
      "source": [
        "print('My name is %s and I am from %s, %i .' % ('AI', '4차산업혁명',10))\n",
        "print('My name is {1} and I am from {0} and I like {thing}' .format('딥러닝', 'AI',thing='cats'))\n",
        "name = '김종호'\n",
        "age = 20\n",
        "#f 문자열\n",
        "print(f'이름은 {name} 나이는 {age}')"
      ],
      "metadata": {
        "colab": {
          "base_uri": "https://localhost:8080/"
        },
        "id": "xJk_OrkOgZlN",
        "outputId": "a3b62a6f-7f25-4bb0-dbcd-5daba6ff4e79"
      },
      "execution_count": null,
      "outputs": [
        {
          "output_type": "stream",
          "name": "stdout",
          "text": [
            "My name is AI and I am from 4차산업혁명, 10 .\n",
            "My name is AI and I am from 딥러닝 and I like cats\n",
            "이름은 김종호 나이는 20\n"
          ]
        }
      ]
    },
    {
      "cell_type": "code",
      "source": [
        "# 파이썬에서는 변수도 객체\n",
        "fullName = input('이름을입력하시오:')\n",
        "n=fullName.rfind(' ') #reverse find, 공백도 문자\n",
        "#문자열은 배열\n",
        "print(fullName[0])\n",
        "print(fullName[1])\n",
        "print(fullName[2])\n",
        "print(n)\n",
        "print(\"이름:\", fullName[n+1:]) #indexing, 끝까지\n",
        "print(\"성(s):\", fullName[:n]) #처음부터\n",
        "\n",
        "\n"
      ],
      "metadata": {
        "colab": {
          "base_uri": "https://localhost:8080/"
        },
        "id": "8ckGFE3MotHC",
        "outputId": "9927f96f-e53e-44ab-9d42-d54e626f75ce"
      },
      "execution_count": null,
      "outputs": [
        {
          "output_type": "stream",
          "name": "stdout",
          "text": [
            "이름을입력하시오:김 종호\n",
            "김\n",
            " \n",
            "종\n",
            "1\n",
            "이름: 종호\n",
            "성(s): 김\n"
          ]
        }
      ]
    },
    {
      "cell_type": "code",
      "source": [
        "# 인덱싱\n",
        "     #01234\n",
        "s = 'korea'\n",
        "print(s+s) # 문자열 더하기\n",
        "print(s * 3) # 문자열 곱하기(3번 반복)\n",
        "print(s[0:]) # 끝까지\n",
        "print(s[4])\n",
        "print(s[-1]) # -0은 없음\n",
        "print(s[1:3]) # 3은 제외하고 (R은 제외 안 함)\n",
        "\n",
        "print(s[-2:])\n",
        "print(s[-2:5])\n",
        "print(s[3:-1]) # +, -혼용해서 사용 가능(R은 안됨)\n",
        "print(len(s))\n",
        "s.split('r') # 문자열도 객체(class) -> list 표현 []\n",
        "# 파이썬에는 배열이 없고, list 대신(메모리를 효율적으로 사용하기 위해)\n",
        "\n"
      ],
      "metadata": {
        "colab": {
          "base_uri": "https://localhost:8080/"
        },
        "id": "mDeAMixRq2vx",
        "outputId": "cf3afdbe-aa0e-4820-e34b-c16af47929e6"
      },
      "execution_count": null,
      "outputs": [
        {
          "output_type": "stream",
          "name": "stdout",
          "text": [
            "koreakorea\n",
            "koreakoreakorea\n",
            "korea\n",
            "a\n",
            "a\n",
            "or\n",
            "ea\n",
            "ea\n",
            "e\n",
            "5\n"
          ]
        },
        {
          "output_type": "execute_result",
          "data": {
            "text/plain": [
              "['ko', 'ea']"
            ]
          },
          "metadata": {},
          "execution_count": 12
        }
      ]
    },
    {
      "cell_type": "code",
      "source": [
        "from posixpath import join\n",
        "t = 'Seoul, lncheon, won' .split(',')\n",
        "print(t)\n",
        "',' .join(t)\n",
        "type(','.join(t))"
      ],
      "metadata": {
        "colab": {
          "base_uri": "https://localhost:8080/"
        },
        "id": "JuuVJobBttEB",
        "outputId": "f7d91d20-82ab-467a-e86f-cddcade52f62"
      },
      "execution_count": null,
      "outputs": [
        {
          "output_type": "stream",
          "name": "stdout",
          "text": [
            "['Seoul', ' lncheon', ' won']\n"
          ]
        },
        {
          "output_type": "execute_result",
          "data": {
            "text/plain": [
              "str"
            ]
          },
          "metadata": {},
          "execution_count": 15
        }
      ]
    },
    {
      "cell_type": "markdown",
      "source": [
        "- [] -> list\n",
        "- () -> tuble (list와 같지만 수정 불가 , 함수의 리턴 값)\n",
        "- {} -> dict, set"
      ],
      "metadata": {
        "id": "yc6MplGsucbh"
      }
    },
    {
      "cell_type": "markdown",
      "source": [
        "# 문자열\n",
        "- str\n",
        "- 체크함수(isupper, islower, isspace) # 숫자, 문자, 특수문자\n",
        "- CRUD(append, extend, pop, remove, del, clear)\n",
        "- 변환함수(upper, lower,split, join)\n",
        "- 출력함수(c, c#, F문자열)\n",
        "- 카운트함수(len, count)"
      ],
      "metadata": {
        "id": "ezRnR-LwTlku"
      }
    },
    {
      "cell_type": "code",
      "source": [
        "s= 'korea'\n",
        "print(s.capitalize())  # 첫자 대문자\n",
        "print(s.find('r')) # 인덱스 2\n",
        "print(s.count('re')) # 1 횟수\n",
        "print(s.isalpha()) #bool형 데이터 타입으로 리턴(return)\n",
        "print(s.isdigit()) #False\n",
        "print('0123' .isdigit()) #\n",
        "print(s.replace('r','R')) #파싱할 떄 많이 사용\n",
        "print(s.startswith('K')) #처음문자 체크\n",
        "print(s.endswith('a')) #"
      ],
      "metadata": {
        "colab": {
          "base_uri": "https://localhost:8080/"
        },
        "id": "YqWIsKXNQTmg",
        "outputId": "7c601d9b-c9a7-4dda-ed5d-b78d7e31fff4"
      },
      "execution_count": null,
      "outputs": [
        {
          "output_type": "stream",
          "name": "stdout",
          "text": [
            "Korea\n",
            "2\n",
            "1\n",
            "True\n",
            "False\n",
            "True\n",
            "koRea\n",
            "False\n",
            "True\n"
          ]
        }
      ]
    },
    {
      "cell_type": "code",
      "source": [
        "f = 1.23 #부동소수점: float\n",
        "g = str(f)\n",
        "h = repr(f) # 더 정교하게 작동한다\n",
        "print(g,'  ',h)\n"
      ],
      "metadata": {
        "colab": {
          "base_uri": "https://localhost:8080/"
        },
        "id": "PLlVKR2EV2i_",
        "outputId": "f90cd320-71f4-4097-d1e8-e540d79295db"
      },
      "execution_count": null,
      "outputs": [
        {
          "output_type": "stream",
          "name": "stdout",
          "text": [
            "1.23    1.23\n"
          ]
        }
      ]
    },
    {
      "cell_type": "markdown",
      "source": [
        "# 연산자\n",
        "- 컴퓨터 구조 : CPU(제어장치, 연산장치), memory\n",
        "- 계산하는 것\n",
        "- 대수적 연산\n",
        "  - 산술연산자( +, -, *, /, //, %, **)\n",
        "  - 관계연산자(>, >=, <, <=, ==, !=)\n",
        "  - 논리연산자( and, or, not)\n",
        "  - 비트연산자\n",
        "- 초월함수( 삼각함수(회전, 주기적), 지수함수, 로그함수) : math"
      ],
      "metadata": {
        "id": "B2PqJsJcXABF"
      }
    },
    {
      "cell_type": "code",
      "source": [
        "a = 3\n",
        "b = 4\n",
        "\n",
        "print(a+b, a-b, a*b, a/b)\n",
        "print(a-b)\n",
        "print(a*b)\n",
        "print(a/b)\n",
        "print(a%b) # 나머지 연산자: 경우의 수를 계산\n",
        "print(1%2)\n",
        "\n",
        "print(7/4)\n",
        "print(7//4)\n",
        "print(7%4)"
      ],
      "metadata": {
        "colab": {
          "base_uri": "https://localhost:8080/"
        },
        "id": "wHCTgb7qWZ7i",
        "outputId": "e7a4b2f1-ffd8-41ce-a302-b20cdd7e5dd1"
      },
      "execution_count": null,
      "outputs": [
        {
          "output_type": "stream",
          "name": "stdout",
          "text": [
            "7 -1 12 0.75\n",
            "-1\n",
            "12\n",
            "0.75\n",
            "3\n",
            "1\n",
            "1.75\n",
            "1\n",
            "3\n"
          ]
        }
      ]
    },
    {
      "cell_type": "code",
      "source": [
        "#sum(1,2)\n",
        "#리스트가 매개변수값으로 입력\n",
        "# []:리스트, {}:dict, set, (): tuple\n",
        "print('sum([1,2,3]):', sum([1,2,3]))\n",
        "print('min([1,2,3]):', min([1,2,3]))\n",
        "print('abs(-11):', abs(-11)) #절대값\n",
        "print(\"pow(2,10):\", pow(2,10)) #승 1024바이트 -> 1kb, 1024kb -> 1MB, 1024MB -> 1GB, 1024GB -> 1TB\n",
        "print('round(3.141592):', round(3.141592)) # 소수점 이하 첫번째 자리에서 반올림\n",
        "print('round(3.141592):', round(3.141592,2)) #소수점이하 3번째 자리에서 반올림하고, 2번째자리까지 표현"
      ],
      "metadata": {
        "colab": {
          "base_uri": "https://localhost:8080/"
        },
        "id": "5FSZb4mZZcUO",
        "outputId": "fd8fe4d3-ac96-480c-da65-71dbed052d87"
      },
      "execution_count": null,
      "outputs": [
        {
          "output_type": "stream",
          "name": "stdout",
          "text": [
            "sum([1,2,3]): 6\n",
            "min([1,2,3]): 1\n",
            "abs(-11): 11\n",
            "pow(2,10): 1024\n",
            "round(3.141592): 3\n",
            "round(3.141592): 3.14\n"
          ]
        }
      ]
    },
    {
      "cell_type": "code",
      "source": [
        "#문제 8TB를 바이트로 표현해 보이오\n",
        "8*1024*1024*1024*1024"
      ],
      "metadata": {
        "colab": {
          "base_uri": "https://localhost:8080/"
        },
        "id": "MRna5x1OZ6bO",
        "outputId": "bbc9df39-e396-4817-ae61-ec9468a6d409"
      },
      "execution_count": null,
      "outputs": [
        {
          "output_type": "execute_result",
          "data": {
            "text/plain": [
              "8796093022208"
            ]
          },
          "metadata": {},
          "execution_count": 22
        }
      ]
    },
    {
      "cell_type": "code",
      "source": [
        "# 프로그램은 순차적으로 실행\n",
        "# 순서를 바꾸는 것 ( 함수, 조건문, 반복문)\n",
        "# 데이터를 입력\n",
        "num1 = input('정수를 입력하시오:')\n",
        "num2 = input('정수를 입력하시오:')\n",
        "hab = int(num1) + int(num2) #casting\n",
        "quotient = hab //2 #몫\n",
        "remainder = hab % 2 #나머지 : 0, 1\n",
        "print('입력된 수를 2로 나눈 결과 몫 =', quotient, '나머지=', remainder)\n",
        "# 들여쓰기\n",
        "if remainder == 0: # 블록의 시작\n",
        "  print('짝수입니다.')\n",
        "  print('짝수입니다.') # 들여쓰기가 끝나는 지점\n",
        "else:\n",
        "  print('홀수입니다.')"
      ],
      "metadata": {
        "colab": {
          "base_uri": "https://localhost:8080/"
        },
        "id": "DNZFp7XVetuc",
        "outputId": "43829a1c-66c8-4fb5-f41b-fa9391a1fb98"
      },
      "execution_count": null,
      "outputs": [
        {
          "output_type": "stream",
          "name": "stdout",
          "text": [
            "정수를 입력하시오:10\n",
            "정수를 입력하시오:10\n",
            "입력된 수를 2로 나눈 결과 몫 = 10 나머지= 0\n",
            "짝수입니다.\n",
            "짝수입니다.\n"
          ]
        }
      ]
    },
    {
      "cell_type": "code",
      "source": [
        "a = 10 # 숫자는 그대로가 고유한 값\n",
        "print(hash(a)) # hash함수는 키값을 생설할 때 사용(교유하게 구분할 수 있는 값)\n",
        "print(id(a))   # id: 메모리의 물리적 위치\n",
        "print(hash('10'))"
      ],
      "metadata": {
        "colab": {
          "base_uri": "https://localhost:8080/"
        },
        "id": "kjwngC26hq2b",
        "outputId": "2bec183b-111d-4dd9-d413-f35f6e98d8c5"
      },
      "execution_count": null,
      "outputs": [
        {
          "output_type": "stream",
          "name": "stdout",
          "text": [
            "10\n",
            "134081851884048\n",
            "3184944529570716510\n"
          ]
        }
      ]
    },
    {
      "cell_type": "code",
      "source": [
        "# heap, stack, (전역변수, static), code\n",
        "# 함수가 함수를 호출하는 방법으로 실행\n",
        "# 함수 : 반복 사용하기 위해서 -> stack(필요한 데이터는 어디에 저장)\n",
        "x = 300 #전역변수\n",
        "def myfunc(): #함수를 정의\n",
        "  x=200; #지역변수(함수안에서 선언된 변수) , 지역변수가 우선한다\n",
        "  print(x)\n",
        "myfunc() # 함수 호출\n",
        "print(x)"
      ],
      "metadata": {
        "colab": {
          "base_uri": "https://localhost:8080/"
        },
        "id": "yi5j1KgHi9kK",
        "outputId": "19c737cb-eb7c-4cd9-97cc-3fd4fe366db0"
      },
      "execution_count": null,
      "outputs": [
        {
          "output_type": "stream",
          "name": "stdout",
          "text": [
            "300\n",
            "300\n"
          ]
        }
      ]
    },
    {
      "cell_type": "code",
      "source": [
        "# 문제 : 어떤 정수를 입력받아서  0:가위, 1:바위, 2:보의 3가지 경우가 될 수 있도록\n",
        "# 프로그램 해보시요\n",
        "# 입력 -> 문자변환 -> 경우의 수 -> 경우수로 판단(if)\n",
        "indata = input('정수를 입력하시오:')\n",
        "select = int(indata)%3\n",
        "# select = int(input('정수를 입력하시오:')) %3\n",
        "if select == 0:\n",
        "  print(\"가위\")\n",
        "elif select == 1:\n",
        "  print(\"바위\")\n",
        "#elif select == 2:\n",
        "else:\n",
        "  print(\"보\")\n"
      ],
      "metadata": {
        "colab": {
          "base_uri": "https://localhost:8080/"
        },
        "id": "E-a36yRKkfMt",
        "outputId": "6f758cdc-fe2e-48c9-d2eb-471616019df5"
      },
      "execution_count": null,
      "outputs": [
        {
          "output_type": "stream",
          "name": "stdout",
          "text": [
            "정수를 입력하시오:101\n",
            "정수를 입력하시오:105\n",
            "가위\n"
          ]
        }
      ]
    },
    {
      "cell_type": "code",
      "source": [
        "a = [1,2,3,4,5]\n",
        "b = a[0:2] #slicing 의 결과도 리스트 : 결과 데이터 타입에 대해서 확인\n",
        "print(b)\n",
        "print(type(b))\n",
        "# 2번째 인덱스에 있는 내용에 \"hi\"를 더해서 출력해 보시오\n",
        "print(str(a[2]) + \"hi\") # 더 넓은 범위로 캐스팅\n",
        "# 넓은데서 좁은 데이터타입으로 캐스팅하면 데이터가 절단 됨\n"
      ],
      "metadata": {
        "colab": {
          "base_uri": "https://localhost:8080/"
        },
        "id": "gVB1b8MTpAjY",
        "outputId": "7eb024ba-2c2f-450f-d247-db85e106676c"
      },
      "execution_count": null,
      "outputs": [
        {
          "output_type": "stream",
          "name": "stdout",
          "text": [
            "[1, 2]\n",
            "<class 'list'>\n",
            "3hi\n"
          ]
        }
      ]
    },
    {
      "cell_type": "code",
      "source": [
        "a = [1,2,3,['a','b','c'],4,5]  # 2차원 리스트\n",
        "                               # 리스트 속 리스트는 하나로 인식\n",
        "                               # [1,2,3,주소,4,5]로 인식\n",
        "print(a[2:5])\n",
        "print(a[3][:2]) # 2차원이라서 두개의 인덱싱이 들어감 # 인덱스3의 :2가 출력"
      ],
      "metadata": {
        "colab": {
          "base_uri": "https://localhost:8080/"
        },
        "id": "sEIZPV-gptOo",
        "outputId": "fbc3b119-3806-49af-aa64-2d0a44f7b9ab"
      },
      "execution_count": null,
      "outputs": [
        {
          "output_type": "stream",
          "name": "stdout",
          "text": [
            "[3, ['a', 'b', 'c'], 4]\n",
            "['a', 'b']\n"
          ]
        }
      ]
    },
    {
      "cell_type": "code",
      "source": [
        "a = [1,2,['a','b',['Life', \"is\"]]] # 3차원 리스트\n",
        "print(a[0])\n",
        "print(a[2][2][0]) # a 인덱스 2 번(['a','b',['Life','is'])의 2번(['life','is'])의 0번('Life\")이 출력됨\n",
        "print(len(a))\n",
        "print(len(a[2]))\n",
        "print(len(a[2][2]))"
      ],
      "metadata": {
        "colab": {
          "base_uri": "https://localhost:8080/"
        },
        "id": "63MW1ZIPt42m",
        "outputId": "35328065-b8a1-43aa-9c04-f5f3e9e9d1b8"
      },
      "execution_count": null,
      "outputs": [
        {
          "output_type": "stream",
          "name": "stdout",
          "text": [
            "1\n",
            "Life\n",
            "3\n",
            "3\n",
            "2\n"
          ]
        }
      ]
    },
    {
      "cell_type": "code",
      "source": [
        "a = [1,2,3]\n",
        "a[2] = 4\n",
        "print(a)"
      ],
      "metadata": {
        "colab": {
          "base_uri": "https://localhost:8080/"
        },
        "id": "q2u4HBXbvJj2",
        "outputId": "18c6dec2-6027-4678-d918-9c73ca8c008e"
      },
      "execution_count": null,
      "outputs": [
        {
          "output_type": "stream",
          "name": "stdout",
          "text": [
            "[1, 2, 4]\n"
          ]
        }
      ]
    },
    {
      "cell_type": "code",
      "source": [
        "a[1:2] = ['a','b','c'] # 데이터가 풀어져서 입력\n",
        "print(a)\n",
        "a[2] = ['하나', '둘', '셋'] #모양을 유지하면서 수정\n",
        "print(a)"
      ],
      "metadata": {
        "colab": {
          "base_uri": "https://localhost:8080/",
          "height": 202
        },
        "id": "zeUsOVM_veEV",
        "outputId": "6a68daaf-667c-48b6-bb5b-428d5663badb"
      },
      "execution_count": null,
      "outputs": [
        {
          "output_type": "error",
          "ename": "TypeError",
          "evalue": "'list' object is not callable",
          "traceback": [
            "\u001b[0;31m---------------------------------------------------------------------------\u001b[0m",
            "\u001b[0;31mTypeError\u001b[0m                                 Traceback (most recent call last)",
            "\u001b[0;32m<ipython-input-121-1fbc91dc70e8>\u001b[0m in \u001b[0;36m<cell line: 2>\u001b[0;34m()\u001b[0m\n\u001b[1;32m      1\u001b[0m \u001b[0ma\u001b[0m\u001b[0;34m[\u001b[0m\u001b[0;36m1\u001b[0m\u001b[0;34m:\u001b[0m\u001b[0;36m2\u001b[0m\u001b[0;34m]\u001b[0m \u001b[0;34m=\u001b[0m \u001b[0;34m[\u001b[0m\u001b[0;34m'a'\u001b[0m\u001b[0;34m,\u001b[0m\u001b[0;34m'b'\u001b[0m\u001b[0;34m,\u001b[0m\u001b[0;34m'c'\u001b[0m\u001b[0;34m]\u001b[0m \u001b[0;31m# 데이터가 풀어져서 입력\u001b[0m\u001b[0;34m\u001b[0m\u001b[0;34m\u001b[0m\u001b[0m\n\u001b[0;32m----> 2\u001b[0;31m \u001b[0mprint\u001b[0m\u001b[0;34m(\u001b[0m\u001b[0ma\u001b[0m\u001b[0;34m)\u001b[0m\u001b[0;34m\u001b[0m\u001b[0;34m\u001b[0m\u001b[0m\n\u001b[0m\u001b[1;32m      3\u001b[0m \u001b[0ma\u001b[0m\u001b[0;34m[\u001b[0m\u001b[0;36m2\u001b[0m\u001b[0;34m]\u001b[0m \u001b[0;34m=\u001b[0m \u001b[0;34m[\u001b[0m\u001b[0;34m'하나'\u001b[0m\u001b[0;34m,\u001b[0m \u001b[0;34m'둘'\u001b[0m\u001b[0;34m,\u001b[0m \u001b[0;34m'셋'\u001b[0m\u001b[0;34m]\u001b[0m \u001b[0;31m#모양을 유지하면서 수정\u001b[0m\u001b[0;34m\u001b[0m\u001b[0;34m\u001b[0m\u001b[0m\n\u001b[1;32m      4\u001b[0m \u001b[0mprint\u001b[0m\u001b[0;34m(\u001b[0m\u001b[0ma\u001b[0m\u001b[0;34m)\u001b[0m\u001b[0;34m\u001b[0m\u001b[0;34m\u001b[0m\u001b[0m\n",
            "\u001b[0;31mTypeError\u001b[0m: 'list' object is not callable"
          ]
        }
      ]
    },
    {
      "cell_type": "code",
      "source": [
        "mat = [[1,2,3],[4,5,6],[7,8,9]]\n",
        "print(mat)"
      ],
      "metadata": {
        "colab": {
          "base_uri": "https://localhost:8080/"
        },
        "id": "TUU7RA0UwVop",
        "outputId": "3d0e7fde-2408-4c8e-c70f-1372f7ab3d22"
      },
      "execution_count": null,
      "outputs": [
        {
          "output_type": "stream",
          "name": "stdout",
          "text": [
            "[[1, 2, 3], [4, 5, 6], [7, 8, 9]]\n"
          ]
        }
      ]
    },
    {
      "cell_type": "code",
      "source": [
        "a = [1,2,3,4,5]\n",
        "b = range(1,5,1) #초기값:1 , 한계값:5, 증강값:1 ->1부터 4(한계값의 본인은 제외, 본인 앞자리까지)까지 1씩 증가함.\n",
        "# for(int i = 0; 1<10; i++){} #다른 언어의 형태, 파이썬은 안 씀\n",
        "print(b)  #list만 출력됨 -> 다른 형태는 list로 만드어줘야 함(캐스팅)\n",
        "print(list(b))\n",
        "for i in a:\n",
        "  print(i)\n",
        "for i in b:\n",
        "  print(i)\n",
        "  print(a[i])"
      ],
      "metadata": {
        "colab": {
          "base_uri": "https://localhost:8080/"
        },
        "id": "-pYlmvG_wqSl",
        "outputId": "1e390d0e-6a20-4f8d-e43c-3e2470d3134f"
      },
      "execution_count": null,
      "outputs": [
        {
          "output_type": "stream",
          "name": "stdout",
          "text": [
            "range(1, 5)\n",
            "[1, 2, 3, 4]\n",
            "1\n",
            "2\n",
            "3\n",
            "4\n",
            "5\n",
            "1\n",
            "2\n",
            "2\n",
            "3\n",
            "3\n",
            "4\n",
            "4\n",
            "5\n"
          ]
        }
      ]
    },
    {
      "cell_type": "code",
      "source": [
        "# Stack 자료구조(Last in first out) LIFO\n",
        "a = [10,20,30,40,50] # 프로그램의 시작점은 스택의 맨 마지막에 위치함\n",
        "a.append(60)    # append 추가\n",
        "print(a.pop()) # pop은 제거\n",
        "a.append(70)\n",
        "a.append(80)\n",
        "print(a.pop())\n",
        "print(a)"
      ],
      "metadata": {
        "colab": {
          "base_uri": "https://localhost:8080/"
        },
        "id": "1eWjqWtjz8Oz",
        "outputId": "a5e158fc-02ec-4ed9-9eb9-c6d5cf903d6b"
      },
      "execution_count": null,
      "outputs": [
        {
          "output_type": "stream",
          "name": "stdout",
          "text": [
            "60\n",
            "80\n",
            "[10, 20, 30, 40, 50, 70]\n"
          ]
        }
      ]
    },
    {
      "cell_type": "code",
      "source": [
        "#Queue : FIFO(first in first out)\n",
        "#list\n",
        "#모든 변수는 초기화: 파이썬 변수는 포인터\n",
        "#데이터가 없으면 False\n",
        "printer = [] #{},()\n",
        "if not printer:    # 논리연산자 and, or, not\n",
        "  print('리스트가 비어 있습니다.')\n",
        "printer.append(60)\n",
        "printer.append(50)\n",
        "if not printer:\n",
        "  printer.pop()\n",
        "printer.append(40)\n",
        "print(printer.pop(0))\n",
        "printer\n"
      ],
      "metadata": {
        "colab": {
          "base_uri": "https://localhost:8080/"
        },
        "id": "mTCkXVyw1DSz",
        "outputId": "f57458ec-bce2-4e89-8e10-c5345192f582"
      },
      "execution_count": null,
      "outputs": [
        {
          "output_type": "stream",
          "name": "stdout",
          "text": [
            "리스트가 비어 있습니다.\n",
            "60\n"
          ]
        },
        {
          "output_type": "execute_result",
          "data": {
            "text/plain": [
              "[50, 40]"
            ]
          },
          "metadata": {},
          "execution_count": 2
        }
      ]
    },
    {
      "cell_type": "code",
      "source": [
        "# 함수\n",
        "# 컴퓨터는 함수 베이스로 작동 (stack에 함수가 필요한 데이터를 저장 실행: 지역변수)\n",
        "# 왜 함수를 만드는가?\n",
        "# 사용자 정의 함수\n",
        "# 디폴트 매개변수\n",
        "def calc(a,b): #가매개변수\n",
        "  return a+b, a*b # 함수가 리턴할 때는 tuple로 리턴\n",
        "x,y = calc(3,4) #실매개변수 #파이썬에서는 다중리턴이 가능\n",
        "print(x,y)\n",
        "print(x)\n",
        "x,y\n",
        "args=(4,5) #한개의 매개변수 (tuple)\n",
        "# calc(args) -> 오류\n",
        "calc(*args)  # 찢어져 입력"
      ],
      "metadata": {
        "colab": {
          "base_uri": "https://localhost:8080/"
        },
        "id": "yJdxUahU9QzR",
        "outputId": "e8a1d7b0-f006-4556-a7b0-1595d3c8a7d0"
      },
      "execution_count": null,
      "outputs": [
        {
          "output_type": "stream",
          "name": "stdout",
          "text": [
            "7 12\n",
            "7\n"
          ]
        },
        {
          "output_type": "execute_result",
          "data": {
            "text/plain": [
              "(9, 20)"
            ]
          },
          "metadata": {},
          "execution_count": 64
        }
      ]
    },
    {
      "cell_type": "code",
      "source": [
        "def calc(a,b=1):\n",
        "  return a+b, a*b\n",
        "print(calc(1)) # 1개만 넣었지만, b가 이미 선언되어있기 때문에 출력 가능\n",
        "# 데이터 타입을 지정하지 않는 대신에 데이터 타입에 대한 확인 책임은 프로그래머에게 있음\n",
        "# calc(\"김종호\",\"두번\") -> a*b에서 오류 발생\n",
        "# calc(\"김종호\", 3)  -> a+b 에서 오류 발생"
      ],
      "metadata": {
        "colab": {
          "base_uri": "https://localhost:8080/"
        },
        "id": "NjdtITOfKAab",
        "outputId": "d7413193-18e4-44f1-9540-fa82d9c2d369"
      },
      "execution_count": null,
      "outputs": [
        {
          "output_type": "stream",
          "name": "stdout",
          "text": [
            "(2, 1)\n"
          ]
        }
      ]
    },
    {
      "cell_type": "code",
      "source": [
        "cities = ['seoul', 'incheon', 'suwon']\n",
        "print(cities)\n",
        "cities.append('busan')\n",
        "print(cities)\n",
        "cities.insert(0, 'daegu')\n",
        "print(cities)\n",
        "other_cities=['jeju', 'kwangju']\n",
        "print('결합', cities + other_cities)\n",
        "cities.append(['daejeon', 'ulsan'])\n",
        "cities.extend(['jeju','kwangju'])\n",
        "print(cities)"
      ],
      "metadata": {
        "colab": {
          "base_uri": "https://localhost:8080/"
        },
        "id": "41oILHZdLqhq",
        "outputId": "dca901e2-f8a4-480e-f2d8-564784df6a17"
      },
      "execution_count": null,
      "outputs": [
        {
          "output_type": "stream",
          "name": "stdout",
          "text": [
            "['seoul', 'incheon', 'suwon']\n",
            "['seoul', 'incheon', 'suwon', 'busan']\n",
            "['daegu', 'seoul', 'incheon', 'suwon', 'busan']\n",
            "결합 ['daegu', 'seoul', 'incheon', 'suwon', 'busan', 'jeju', 'kwangju']\n",
            "['daegu', 'seoul', 'incheon', 'suwon', 'busan', ['daejeon', 'ulsan'], 'jeju', 'kwangju']\n"
          ]
        }
      ]
    },
    {
      "cell_type": "code",
      "source": [
        "# 문제: 인덱스를 이용해서 ulsan을 출력해 보시오\n",
        "print(cities[5][1])\n",
        "#'incheon' 을 삭제하시오\n",
        "cities.remove('incheon')\n",
        "print(cities)"
      ],
      "metadata": {
        "colab": {
          "base_uri": "https://localhost:8080/"
        },
        "id": "GS_nWLZFM4QJ",
        "outputId": "38b09b8c-5295-4e60-f596-f4357270bf47"
      },
      "execution_count": null,
      "outputs": [
        {
          "output_type": "stream",
          "name": "stdout",
          "text": [
            "ulsan\n",
            "['daegu', 'seoul', 'suwon', 'busan', ['daejeon', 'ulsan'], 'jeju', 'kwangju']\n"
          ]
        }
      ]
    },
    {
      "cell_type": "code",
      "source": [
        "# dict 자료구조 (MAP) : JSON\n",
        "# dictionary 사전형\n",
        "# 키이 + 데이터 형식\n",
        "# 키이는 주소로 매핑(hash 함수에 의해서)\n",
        "# 순서를 보장할 수 없는 데이터 타입\n",
        "d = {'one':1, 'two':2}\n",
        "print(d.items()) # 데이터 타입에 변화\n",
        "print(d.keys())\n",
        "d.values()\n",
        "# range"
      ],
      "metadata": {
        "colab": {
          "base_uri": "https://localhost:8080/"
        },
        "id": "jWhL_G7iOQyJ",
        "outputId": "d3df8676-613b-4ab9-92fb-4ffe701dbdaf"
      },
      "execution_count": null,
      "outputs": [
        {
          "output_type": "stream",
          "name": "stdout",
          "text": [
            "dict_items([('one', 1), ('two', 2)])\n",
            "dict_keys(['one', 'two'])\n"
          ]
        },
        {
          "output_type": "execute_result",
          "data": {
            "text/plain": [
              "dict_values([1, 2])"
            ]
          },
          "metadata": {},
          "execution_count": 39
        }
      ]
    },
    {
      "cell_type": "code",
      "source": [
        "               #binary 2진수 128 64 32 16 8 4 2 1\n",
        "print(bin(3))    #                            1 1\n",
        "print(hex(255))  #            1   1  1  1 1 1 1 1  # A,B,C,D,E,F\n",
        "print(oct(15))   #                        1 1 1 1"
      ],
      "metadata": {
        "colab": {
          "base_uri": "https://localhost:8080/"
        },
        "id": "pDt_tUvDQov4",
        "outputId": "31ed432e-80fc-4206-b120-7242789a455f"
      },
      "execution_count": null,
      "outputs": [
        {
          "output_type": "stream",
          "name": "stdout",
          "text": [
            "0b11\n",
            "0xff\n",
            "0o17\n"
          ]
        }
      ]
    },
    {
      "cell_type": "code",
      "source": [
        "divmod(10,2) # 몫, 나머지"
      ],
      "metadata": {
        "colab": {
          "base_uri": "https://localhost:8080/"
        },
        "id": "bMwczhSMURd3",
        "outputId": "bb132b95-2018-4255-df32-16b074b3f169"
      },
      "execution_count": null,
      "outputs": [
        {
          "output_type": "execute_result",
          "data": {
            "text/plain": [
              "(5, 0)"
            ]
          },
          "metadata": {},
          "execution_count": 46
        }
      ]
    },
    {
      "cell_type": "code",
      "source": [
        "# enumerate 열거형 객체(순서가 필요할 때)\n",
        "seasons = ['Spring', 'Summer', 'Fall', 'Winter']\n",
        "print(enumerate(seasons))\n",
        "print(list(enumerate(seasons)))   # start=0 디폴트 매개변수로 생략되어있음\n",
        "print(list(enumerate(seasons, start=1)))\n",
        "print(seasons[1])"
      ],
      "metadata": {
        "colab": {
          "base_uri": "https://localhost:8080/"
        },
        "id": "yZwmTEm5UeYp",
        "outputId": "c312fa70-90b2-4903-a91b-defe00793ba5"
      },
      "execution_count": null,
      "outputs": [
        {
          "output_type": "stream",
          "name": "stdout",
          "text": [
            "<enumerate object at 0x799fc45c9440>\n",
            "[(0, 'Spring'), (1, 'Summer'), (2, 'Fall'), (3, 'Winter')]\n",
            "[(1, 'Spring'), (2, 'Summer'), (3, 'Fall'), (4, 'Winter')]\n",
            "Summer\n"
          ]
        }
      ]
    },
    {
      "cell_type": "code",
      "source": [
        "enum1 = enumerate(seasons)\n",
        "for en in enum1:\n",
        "  print(en)"
      ],
      "metadata": {
        "colab": {
          "base_uri": "https://localhost:8080/"
        },
        "id": "-y1cwHrFVzhW",
        "outputId": "55429d33-4ff6-43f7-edbe-8247783d398d"
      },
      "execution_count": null,
      "outputs": [
        {
          "output_type": "stream",
          "name": "stdout",
          "text": [
            "(0, 'Spring')\n",
            "(1, 'Summer')\n",
            "(2, 'Fall')\n",
            "(3, 'Winter')\n"
          ]
        }
      ]
    },
    {
      "cell_type": "code",
      "source": [
        "print(ord('A')) # ordinal 순서의\n",
        "print(ord('O'))\n",
        "print(hex(ord('O')))\n",
        "print(ord('a'))"
      ],
      "metadata": {
        "colab": {
          "base_uri": "https://localhost:8080/"
        },
        "id": "vxABOtUBWKlm",
        "outputId": "c9bdc253-3ebe-4502-a652-b2cf5111af74"
      },
      "execution_count": null,
      "outputs": [
        {
          "output_type": "stream",
          "name": "stdout",
          "text": [
            "65\n",
            "79\n",
            "0x4f\n",
            "97\n"
          ]
        }
      ]
    },
    {
      "cell_type": "code",
      "source": [
        "# 정렬-> 검색을 빨리하기 위해서 (등수)\n",
        "monarchs = [('대한', 1), ('민국',3), ('만세', 6), ('야호', 1)]\n",
        "monarchs.sort() #key=lambda row: row[0] 첫번째 데이터를 이용해서 정렬\n",
        "print(monarchs)\n",
        "#lambda 람다 함수: 무명함수 - 재사용하지 않는 함수(간단한 함수)\n",
        "def func(row):         #->lamda함수\n",
        "  return row[1]\n",
        "\n",
        "monarchs.sort(key=lambda row: row[1], reverse=True) # row[1] 데이터를 기준으로 정렬 #내림차순(descending) ->[('만세', 6), ('민국', 3), ('대한', 1), ('야호', 1)]\n",
        "# monarchs.sort(key=lambda row: row[1])   #오름차순 (asoending) -> [('대한', 1), ('야호', 1), ('민국', 3), ('만세', 6)]\n",
        "print(monarchs)"
      ],
      "metadata": {
        "colab": {
          "base_uri": "https://localhost:8080/"
        },
        "id": "i8S67DihWlD1",
        "outputId": "926d3e5f-7c99-4fa7-f478-418b96189c84"
      },
      "execution_count": null,
      "outputs": [
        {
          "output_type": "stream",
          "name": "stdout",
          "text": [
            "[('대한', 1), ('만세', 6), ('민국', 3), ('야호', 1)]\n",
            "[('만세', 6), ('민국', 3), ('대한', 1), ('야호', 1)]\n"
          ]
        }
      ]
    },
    {
      "cell_type": "code",
      "source": [
        "#문제 : 3인분의 이름과 국어 점수를 입력받아 리스트에 저장하시요\n",
        "\n",
        "name = input(\"이름을 입력하시오:\")\n",
        "kor= input(\"국어 점수를 입력하시오:\")\n",
        "name2 = input(\"이름을 입력하시오:\")\n",
        "a2 = input(\"국어 점수를 입력하시오:\")\n",
        "name3=input(\"이름을 입력하시오:\")\n",
        "a3 = input(\"국어 점수를 입력하시오:\")\n",
        "B= ([name, a], [name2, a2], [name3, a3])\n",
        "print(B)"
      ],
      "metadata": {
        "colab": {
          "base_uri": "https://localhost:8080/"
        },
        "id": "hXYlFoI3aaCU",
        "outputId": "81c07dc3-6f38-437c-ce19-e2772b351676"
      },
      "execution_count": null,
      "outputs": [
        {
          "output_type": "stream",
          "name": "stdout",
          "text": [
            "이름을 입력하시오:김\n",
            "국어 점수를 입력하시오:10\n",
            "이름을 입력하시오:이\n",
            "국어 점수를 입력하시오:30\n",
            "이름을 입력하시오:박\n",
            "국어 점수를 입력하시오:50\n",
            "(['김', '10'], ['이', '30'], ['박', '50'])\n"
          ]
        }
      ]
    },
    {
      "cell_type": "code",
      "source": [
        "ban = []\n",
        "name = input('이름을 입력하시오:')\n",
        "kor = eval(input('국어점수를 입력하시오!:'))\n",
        "ban.append([name,kor])\n",
        "name = input('이름을 입력하시오:')\n",
        "kor = eval(input('국어점수를 입력하시오!:'))\n",
        "ban.append([name,kor])\n",
        "name = input('이름을 입력하시오:')\n",
        "kor = eval(input('국어점수를 입력하시오!:'))\n",
        "ban.append([name,kor])\n",
        "\n",
        "ban.sort(key=lambda row: row[1], reverse=True)\n",
        "print(ban)\n",
        "\n",
        "\n"
      ],
      "metadata": {
        "colab": {
          "base_uri": "https://localhost:8080/"
        },
        "id": "ASyaSSeDdZoD",
        "outputId": "ed4da1b3-a7b7-4f50-bc44-91d809fb2133"
      },
      "execution_count": null,
      "outputs": [
        {
          "output_type": "stream",
          "name": "stdout",
          "text": [
            "이름을 입력하시오:대한\n",
            "국어점수를 입력하시오!:90\n",
            "이름을 입력하시오:민국\n",
            "국어점수를 입력하시오!:80\n",
            "이름을 입력하시오:만세\n",
            "국어점수를 입력하시오!:100\n",
            "[['만세', 100], ['대한', 90], ['민국', 80]]\n"
          ]
        }
      ]
    },
    {
      "cell_type": "markdown",
      "source": [
        "# 컴퓨터 프로그램은 반복을 싫어하고 재사용을 좋아한다."
      ],
      "metadata": {
        "id": "Asom-5EPiiNS"
      }
    },
    {
      "cell_type": "code",
      "source": [
        "#최적화 (optimization)\n",
        "ban = []\n",
        "for i in range(3):  #한계값\n",
        "  name = input('이름을 입력하시오:')\n",
        "  kor = eval(input('국어점수를 입력하시오!:'))\n",
        "  ban.append([name,kor])\n",
        "\n",
        "ban.sort(key=lambda row: row[1], reverse=True)\n",
        "print(ban)\n"
      ],
      "metadata": {
        "colab": {
          "base_uri": "https://localhost:8080/"
        },
        "id": "gSQdNw5XisYg",
        "outputId": "12ac8c1c-4e22-4725-9df0-25be79eaac08"
      },
      "execution_count": null,
      "outputs": [
        {
          "output_type": "stream",
          "name": "stdout",
          "text": [
            "이름을 입력하시오:김 10\n",
            "국어점수를 입력하시오!:10\n",
            "이름을 입력하시오:이\n",
            "국어점수를 입력하시오!:20\n",
            "이름을 입력하시오:박\n",
            "국어점수를 입력하시오!:30\n",
            "[['박', 30], ['이', 20], ['김 10', 10]]\n"
          ]
        }
      ]
    },
    {
      "cell_type": "code",
      "source": [
        "#한 학년은 2개의 반으로 이뤄져 있음\n",
        "#한 학교는 3학년으로 이루어져 있음\n",
        "#한 교육청을 2개의 학교로 이루어져 있음\n",
        "\n",
        "depart = []\n",
        "for i in range(2):\n",
        "  school = []\n",
        "  for i in range(3):\n",
        "    grade = []\n",
        "    for i in range(2):\n",
        "      ban = []\n",
        "      for i in range(2):\n",
        "        name = input('이름을 입력하시오:')\n",
        "        kor = eval(input('국어점수를 입력하시오!:'))\n",
        "        ban.append([name, kor])\n",
        "      grade.append(ban)\n",
        "    school.append(grade)\n",
        "  depart.append(school)\n",
        "\n",
        "depart.sort(key=lambda row: row[1], reverse=True)\n",
        "\n",
        "print(depart)\n"
      ],
      "metadata": {
        "colab": {
          "base_uri": "https://localhost:8080/"
        },
        "id": "mxjad4fJjbSh",
        "outputId": "d0323f7f-f78a-4569-ad7c-8477d685b8c2"
      },
      "execution_count": null,
      "outputs": [
        {
          "output_type": "stream",
          "name": "stdout",
          "text": [
            "이름을 입력하시오:김\n",
            "국어점수를 입력하시오!:10\n",
            "이름을 입력하시오:이\n",
            "국어점수를 입력하시오!:20\n",
            "이름을 입력하시오:최\n",
            "국어점수를 입력하시오!:30\n",
            "이름을 입력하시오:박\n",
            "국어점수를 입력하시오!:40\n",
            "이름을 입력하시오:대\n",
            "국어점수를 입력하시오!:50\n",
            "이름을 입력하시오:한\n",
            "국어점수를 입력하시오!:60\n",
            "이름을 입력하시오:민\n",
            "국어점수를 입력하시오!:70\n",
            "이름을 입력하시오:국\n",
            "국어점수를 입력하시오!:80\n",
            "이름을 입력하시오:만\n",
            "국어점수를 입력하시오!:90\n",
            "이름을 입력하시오:세\n",
            "국어점수를 입력하시오!:100\n",
            "이름을 입력하시오:야\n",
            "국어점수를 입력하시오!:90\n",
            "이름을 입력하시오:호\n",
            "국어점수를 입력하시오!:80\n",
            "이름을 입력하시오:김\n",
            "국어점수를 입력하시오!:70\n",
            "이름을 입력하시오:이\n",
            "국어점수를 입력하시오!:60\n",
            "이름을 입력하시오:박\n",
            "국어점수를 입력하시오!:50\n",
            "이름을 입력하시오:최\n",
            "국어점수를 입력하시오!:90\n",
            "이름을 입력하시오:제\n",
            "국어점수를 입력하시오!:80\n",
            "이름을 입력하시오:양\n",
            "국어점수를 입력하시오!:90\n",
            "이름을 입력하시오:배\n",
            "국어점수를 입력하시오!:80\n",
            "이름을 입력하시오:사\n",
            "국어점수를 입력하시오!:80\n",
            "이름을 입력하시오:김\n",
            "국어점수를 입력하시오!:90\n",
            "이름을 입력하시오:윤\n",
            "국어점수를 입력하시오!:10\n",
            "이름을 입력하시오:지\n",
            "국어점수를 입력하시오!:90\n",
            "이름을 입력하시오:우\n",
            "국어점수를 입력하시오!:50\n",
            "[[[[['김', 70], ['이', 60]], [['박', 50], ['최', 90]]], [[['제', 80], ['양', 90]], [['배', 80], ['사', 80]]], [[['김', 90], ['윤', 10]], [['지', 90], ['우', 50]]]], [[[['김', 10], ['이', 20]], [['최', 30], ['박', 40]]], [[['대', 50], ['한', 60]], [['민', 70], ['국', 80]]], [[['만', 90], ['세', 100]], [['야', 90], ['호', 80]]]]]\n"
          ]
        }
      ]
    },
    {
      "cell_type": "code",
      "source": [
        "#문제: 각 학생의 점수를 합해서 마지막에 추가하시요\n",
        "#총점을 기준으로 정렬해서 출력하시오\n",
        "#내림차순으로 정렬해 놓고 마지막에 숫자 1,2,3을 입력해서 등수를 만드시요\n",
        "\n",
        "sungjuk=[['하하',100,100,100], ['유재석', 99,99,98], ['추신수', 90, 98,91]]\n",
        "\n",
        "for i in range(3):\n",
        "  total = sungjuk[i][1] + sungjuk[i][2] + sungjuk[i][3]\n",
        "  sungjuk[i].append(total)\n",
        "sungjuk.sort(key=lambda row: row[-1], reverse=True)\n",
        "print(sungjuk)\n",
        "\n",
        "for i in range(len(sungjuk)):\n",
        "  ranking = [['1등'], ['2등'], ['3등']]\n",
        "  score = ranking[i]+sungjuk[i]\n",
        "  print(score)\n"
      ],
      "metadata": {
        "colab": {
          "base_uri": "https://localhost:8080/"
        },
        "id": "Wo3YE-OSpa_n",
        "outputId": "e014f566-3436-4b76-9652-bf0ab19f493e"
      },
      "execution_count": null,
      "outputs": [
        {
          "output_type": "stream",
          "name": "stdout",
          "text": [
            "[['하하', 100, 100, 100, 300], ['유재석', 99, 99, 98, 296], ['추신수', 90, 98, 91, 279]]\n",
            "['1등', '하하', 100, 100, 100, 300]\n",
            "['2등', '유재석', 99, 99, 98, 296]\n",
            "['3등', '추신수', 90, 98, 91, 279]\n"
          ]
        }
      ]
    },
    {
      "cell_type": "code",
      "source": [
        "\n",
        "sungjuk=[['하하',100,100,100], ['유재석', 99,99,98], ['추신수', 90, 98,91]]\n",
        "\n",
        "for i in range(3):\n",
        "  total = sungjuk[i][1] + sungjuk[i][2] + sungjuk[i][3]\n",
        "  sungjuk[i].append(total)\n",
        "sungjuk.sort(key=lambda row: row[-1], reverse=True)\n",
        "print(sungjuk)\n",
        "\n",
        "\n"
      ],
      "metadata": {
        "id": "u4ZiCHQjjxQC",
        "colab": {
          "base_uri": "https://localhost:8080/"
        },
        "outputId": "ff0e1962-26cd-462a-ffb2-7e617d3e8bb0"
      },
      "execution_count": null,
      "outputs": [
        {
          "output_type": "stream",
          "name": "stdout",
          "text": [
            "[['하하', 100, 100, 100, 300], ['유재석', 99, 99, 98, 296], ['추신수', 90, 98, 91, 279]]\n"
          ]
        }
      ]
    },
    {
      "cell_type": "code",
      "source": [],
      "metadata": {
        "id": "ZmkDlIYXsfvP"
      },
      "execution_count": null,
      "outputs": []
    }
  ]
}