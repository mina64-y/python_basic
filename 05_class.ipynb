{
  "nbformat": 4,
  "nbformat_minor": 0,
  "metadata": {
    "colab": {
      "provenance": [],
      "authorship_tag": "ABX9TyNtoyDAk37VkB9Mbg/y317g",
      "include_colab_link": true
    },
    "kernelspec": {
      "name": "python3",
      "display_name": "Python 3"
    },
    "language_info": {
      "name": "python"
    }
  },
  "cells": [
    {
      "cell_type": "markdown",
      "metadata": {
        "id": "view-in-github",
        "colab_type": "text"
      },
      "source": [
        "<a href=\"https://colab.research.google.com/github/mina64-y/python_basic/blob/main/05_class.ipynb\" target=\"_parent\"><img src=\"https://colab.research.google.com/assets/colab-badge.svg\" alt=\"Open In Colab\"/></a>"
      ]
    },
    {
      "cell_type": "code",
      "execution_count": null,
      "metadata": {
        "colab": {
          "base_uri": "https://localhost:8080/"
        },
        "id": "fsH9eVpc13Eb",
        "outputId": "58ac18ca-ecd9-45b9-bb43-797c2a16ea1b"
      },
      "outputs": [
        {
          "output_type": "stream",
          "name": "stdout",
          "text": [
            "삼각형의 넓이는 100.0\n"
          ]
        }
      ],
      "source": [
        "# 이등변 삼각형의 넓이를 구하는 경우\n",
        "# 2 진수 (문자열)\n",
        "wigth = 10\n",
        "heigth = 20\n",
        "area = wigth * heigth /2\n",
        "print(\"삼각형의 넓이는\", area)"
      ]
    },
    {
      "cell_type": "code",
      "source": [
        "# 일반화된 함수로 처리\n",
        "def calctri(width, heifth):\n",
        "  \"\"\"삼각형의 넓이를 구하는 함수\"\"\"\n",
        "  area = wigth *heigth /2\n",
        "  return area\n",
        "print(\"삼각형의 넓이는 \", calctri( wigth, heigth))\n",
        "?calctri"
      ],
      "metadata": {
        "colab": {
          "base_uri": "https://localhost:8080/"
        },
        "id": "S9quXPXiZKnv",
        "outputId": "cb61fe0f-52ee-4ea2-fdb9-b6133c951797"
      },
      "execution_count": null,
      "outputs": [
        {
          "output_type": "stream",
          "name": "stdout",
          "text": [
            "삼각형의 넓이는  100.0\n"
          ]
        }
      ]
    },
    {
      "cell_type": "code",
      "source": [
        "# class 사용자 정의 데이터 타입\n",
        "# 객체 지향 프로그래밍 목표: 재사용성, 유지보수용이, 확장용이\n",
        "# 사상: 캡슐화(데이터보호:접근지정(Public, private, protected))\n",
        "       # 추상화(객체 추상화, 호출 추상화, 인터페이스 추상화)\n",
        "       # 다형성(overloading(데이터타입과 매개변수의 개수가 다르면 다른 함수로 인식))\n",
        "       #       (overriding(재정의):부모(타입)는 자식(타입)을 가리킬 수 있음)\n",
        "       #상속성: 공통요소인 부모의 정의하고 자식이 코드를 공유\n",
        "#Template 선언\n",
        "class Triangle : # 멤버변수 + 멤버함수\n",
        "  def setData(self, width, heigth): #멤버함수를 만들 때는 무조건 self를 붙여줌 # self는 문법 # 멤버변수를 초기화\n",
        "    age = 10 # 지역변수\n",
        "    self.width= width # 멤버변수\n",
        "    self.heigth= heigth\n",
        "  def area(self):\n",
        "    return self.width*self.heigth/2\n",
        "tri1=Triangle() # 인스턴스 -> 메모리를 확보\n",
        "tri1.setData(10,20) # 초기화\n",
        "print(tri1.width, tri1.heigth, tri1.area())"
      ],
      "metadata": {
        "colab": {
          "base_uri": "https://localhost:8080/"
        },
        "id": "LM1ZZXo3aBmg",
        "outputId": "cc1f59c7-6ad7-4d32-beae-8251769a94e4"
      },
      "execution_count": null,
      "outputs": [
        {
          "output_type": "stream",
          "name": "stdout",
          "text": [
            "10 20 100.0\n"
          ]
        }
      ]
    },
    {
      "cell_type": "code",
      "source": [
        "# object에 있는 기능 ( 파이썬의 모든 클래스들은 오브젝트를 상속받음(묵시적으로) )\n",
        "class MyClass(object): # 명시적으로\n",
        "  \"\"\"클래스의 예\n",
        "     클래스변수, 멤버변수, 지역변수\"\"\" # ', \",\", \"\"\" 입력되는 형태대로(\"\"\")\n",
        "  i = 12345 # 클래스변수, 공유변수 ( 클래스 안에, 함수 밖에 ) -> 클래스를 여러개 인스터스해도 클래스변수는 1개만 만들어짐\n",
        "            # 공유하는 변수로 학생이라고 하면 학교이름(모든 학생이 같은 학교이므로 학교 이름은 공유됨)\n",
        "  def __init__(self): # 생성자: 초기화 시키는 영역\n",
        "    self.i=54321 # self가 붙으면 멤버변수 #재정의\n",
        "    num=100\n",
        "  def f(self):\n",
        "    return self.i\n",
        "print(MyClass.__doc__)\n",
        "print(MyClass.i)  # 클래스변수임으로 인스턴스하지 않아도 호출됨\n",
        "myclass=MyClass()\n",
        "print(myclass.i)\n",
        "myclass.f()"
      ],
      "metadata": {
        "colab": {
          "base_uri": "https://localhost:8080/"
        },
        "id": "NYPeKAmUdqS-",
        "outputId": "54604dca-7f39-41a2-94dc-f1505cef9799"
      },
      "execution_count": null,
      "outputs": [
        {
          "output_type": "stream",
          "name": "stdout",
          "text": [
            "클래스의 예\n",
            "     클래스변수, 멤버변수, 지역변수\n",
            "12345\n",
            "54321\n"
          ]
        },
        {
          "output_type": "execute_result",
          "data": {
            "text/plain": [
              "54321"
            ]
          },
          "metadata": {},
          "execution_count": 11
        }
      ]
    },
    {
      "cell_type": "code",
      "source": [
        "# object에 있는 기능 ( 파이썬의 모든 클래스들은 오브젝트를 상속받음(묵시적으로) )\n",
        "class MyClass(): # 파이썬은 기본적으로 묵시적으로 상속받음\n",
        "  \"\"\"클래스의 예\n",
        "     클래스변수, 멤버변수, 지역변수\"\"\" # ', \",\", \"\"\" 입력되는 형태대로(\"\"\")\n",
        "  i = 12345 # 클래스변수, 공유변수 ( 클래스 안에, 함수 밖에 ) -> 클래스를 여러개 인스터스해도 클래스변수는 1개만 만들어짐\n",
        "            # 공유하는 변수로 학생이라고 하면 학교이름(모든 학생이 같은 학교이므로 학교 이름은 공유됨)\n",
        "  def __init__(self): # 생성자: 초기화 시키는 영역\n",
        "    self.i= 54321     # 함수 안에서 self가 붙으면 멤버변수 # 재정의\n",
        "    num = 100         # 함수 안에서 slef가 안 붙으면 지역변수\n",
        "  def f(self):\n",
        "    return self.i\n",
        "print(MyClass.__doc__)\n",
        "print(MyClass.i)\n",
        "myclass=MyClass()\n",
        "print(myclass.i)\n",
        "myclass.f()"
      ],
      "metadata": {
        "colab": {
          "base_uri": "https://localhost:8080/"
        },
        "id": "i5CJU7hng7-9",
        "outputId": "7cd3c0d1-8f51-4137-bf79-137bfede8a08"
      },
      "execution_count": null,
      "outputs": [
        {
          "output_type": "stream",
          "name": "stdout",
          "text": [
            "클래스의 예\n",
            "     클래스변수, 멤버변수, 지역변수\n",
            "12345\n",
            "54321\n"
          ]
        },
        {
          "output_type": "execute_result",
          "data": {
            "text/plain": [
              "54321"
            ]
          },
          "metadata": {},
          "execution_count": 13
        }
      ]
    },
    {
      "cell_type": "code",
      "source": [
        "class MyOtherClass:\n",
        "  count = 0 # 공유변수 - 전체 인워수\n",
        "  # required, default, key, 변동매개변수\n",
        "  def __init__(self, name, gender=\"남성\", age=None): # 생성자: 인스턴스 될 때 호출되는 함수\n",
        "    MyOtherClass.count += 1\n",
        "    self.name = name\n",
        "    self.gender = gender\n",
        "    if age is not None:\n",
        "      self.age = age\n",
        "  def __del__(self): # 소멸자: 메모리에서 클래스 제거될 대 호출되는 함수\n",
        "    MyOtherClass.count -=1\n",
        "person1 = MyOtherClass(\"대단해\") # 생성자에 맞춰 데이터가 들어와야함 # 생성자에 맞춘 데이터가 안 들어가면 오류\n",
        "print(person1.name, person1.gender)\n",
        "print(person1.count)\n",
        "person2 = MyOtherClass(\"아이유\",\"여성\",23) # self는  세지 않으므로, name 부터\n",
        "print(person2.count)\n",
        "print(person1.count) # 결과값:2 -> 공유하고 있임\n",
        "del person2\n",
        "print(person1.count)"
      ],
      "metadata": {
        "colab": {
          "base_uri": "https://localhost:8080/"
        },
        "id": "CVuShywSiCac",
        "outputId": "c251307f-1bb6-426f-fe6d-a8fb7f4d1703"
      },
      "execution_count": null,
      "outputs": [
        {
          "output_type": "stream",
          "name": "stdout",
          "text": [
            "대단해 남성\n",
            "1\n",
            "2\n",
            "2\n",
            "1\n"
          ]
        }
      ]
    },
    {
      "cell_type": "code",
      "source": [
        "# time 시간관리 클래스 (timestamp: 1970년 1월 1일부터 경과시간의 초로 표현)\n",
        "# convert time 시간을 문자열로 변환\n",
        "# C는 프로그래머가 메모리 해제, 자바는 가비지 컬렉션(자동으로 해제)\n",
        "from time import time, ctime, sleep\n",
        "class Life: # 클래스는 ()를 안 써도 됨, 상속변수는 오브젝트를 넣어야함\n",
        "  def __init__(self): # 생성자\n",
        "    self.birth=ctime()\n",
        "    print('생성', self.birth)\n",
        "  def __del__(self):  # 소멸자\n",
        "    print(\"사망\", ctime())\n",
        "  def test(self):\n",
        "    print(\"3초 동안 sleeping\")\n",
        "    sleep(3)\n",
        "li = Life() # 클래스 인스턴스, 인스터스는 () 넣어줘야함\n",
        "li.test()\n",
        "del li # 메모리 삭제, 주소, 클래스를 참조하는 변수가 없으면 자동으로 가비지 컬렉션(메모리 청소)\n",
        "       # 메모리 청소는 시스템이 함\n",
        "print(time()) # timestamp # 소수점 이하 -> 나노초, 밀리초(1초를 1000으로 나눈 값)"
      ],
      "metadata": {
        "colab": {
          "base_uri": "https://localhost:8080/"
        },
        "id": "4STXVj-rnGDs",
        "outputId": "4ed319d2-74aa-44bd-e69a-689d5e6c4a20"
      },
      "execution_count": null,
      "outputs": [
        {
          "output_type": "stream",
          "name": "stdout",
          "text": [
            "생성 Mon Jan  6 03:28:59 2025\n",
            "3초 동안 sleeping\n",
            "1736134142.3065245\n"
          ]
        }
      ]
    },
    {
      "cell_type": "code",
      "source": [
        "#파이썬에서는 함수도 클래스, 클래스도 함수처럼 사용이 가능\n",
        "class Employee:\n",
        "  empCount = 0 # 클래스 멤버변수\n",
        "  def __init__(self, name, salary):\n",
        "    self.name = name\n",
        "    self.salary = salary\n",
        "    Employee.empCount += 1\n",
        "  def displayCount(self):\n",
        "    print(\"직원 수 = %d\" % Employee.empCount)\n",
        "  def displayEmployee(self):\n",
        "    print(\"이름: \", self.name, \", 급여 : \", self.salary)\n",
        "  def __call__(self, *pargs, **kargs): # 클래스를 함수처럼 사용하도록 하는 오버라이딩(재정의)\n",
        "    print('Called:', pargs, kargs)\n",
        "emp = Employee(\"이순신\", 500)\n",
        "emp.displayCount()\n",
        "emp1 = Employee(\"감강찬\", 500)\n",
        "emp1.displayCount()\n",
        "emp.displayCount()\n",
        "emp(\"빅데타\", 500, 100, c=100) # 클래스를 함수처럼 호출\n",
        "# . 연산자 뒤에는 멤버변수, 멤버함수\n",
        "emp1.age = 7  # 파이썬에서는 실시간으로 멤버변수 추가가 가능(C나 자바는 없음, 자바스크립는 가능)\n",
        "# print(emp.age)\n",
        "emp1.age = 8"
      ],
      "metadata": {
        "colab": {
          "base_uri": "https://localhost:8080/",
          "height": 276
        },
        "id": "EEQSxz0iqJo8",
        "outputId": "5220b0de-bd60-465a-f0bb-796cfca810dc"
      },
      "execution_count": null,
      "outputs": [
        {
          "output_type": "stream",
          "name": "stdout",
          "text": [
            "직원 수 = 1\n",
            "직원 수 = 2\n",
            "직원 수 = 2\n",
            "Called: ('빅데타', 500, 100) {'c': 100}\n"
          ]
        },
        {
          "output_type": "error",
          "ename": "AttributeError",
          "evalue": "'Employee' object has no attribute 'age'",
          "traceback": [
            "\u001b[0;31m---------------------------------------------------------------------------\u001b[0m",
            "\u001b[0;31mAttributeError\u001b[0m                            Traceback (most recent call last)",
            "\u001b[0;32m<ipython-input-24-ba2178a48bb3>\u001b[0m in \u001b[0;36m<cell line: 22>\u001b[0;34m()\u001b[0m\n\u001b[1;32m     20\u001b[0m \u001b[0;31m# . 연산자 뒤에는 멤버변수, 멤버함수\u001b[0m\u001b[0;34m\u001b[0m\u001b[0;34m\u001b[0m\u001b[0m\n\u001b[1;32m     21\u001b[0m \u001b[0memp1\u001b[0m\u001b[0;34m.\u001b[0m\u001b[0mage\u001b[0m \u001b[0;34m=\u001b[0m \u001b[0;36m7\u001b[0m  \u001b[0;31m# 파이썬에서는 실시간으로 멤버변수 추가가 가능(C나 자바는 없음, 자바스크립는 가능)\u001b[0m\u001b[0;34m\u001b[0m\u001b[0;34m\u001b[0m\u001b[0m\n\u001b[0;32m---> 22\u001b[0;31m \u001b[0mprint\u001b[0m\u001b[0;34m(\u001b[0m\u001b[0memp\u001b[0m\u001b[0;34m.\u001b[0m\u001b[0mage\u001b[0m\u001b[0;34m)\u001b[0m\u001b[0;34m\u001b[0m\u001b[0;34m\u001b[0m\u001b[0m\n\u001b[0m\u001b[1;32m     23\u001b[0m \u001b[0memp1\u001b[0m\u001b[0;34m.\u001b[0m\u001b[0mage\u001b[0m \u001b[0;34m=\u001b[0m \u001b[0;36m8\u001b[0m\u001b[0;34m\u001b[0m\u001b[0;34m\u001b[0m\u001b[0m\n",
            "\u001b[0;31mAttributeError\u001b[0m: 'Employee' object has no attribute 'age'"
          ]
        }
      ]
    },
    {
      "cell_type": "code",
      "source": [
        "print(hasattr(emp1, 'name'))\n",
        "setattr(emp1, 'age', 8)\n",
        "print(getattr(emp1, 'age'))\n",
        "delattr(emp1, 'age')\n",
        "print(emp1, age)"
      ],
      "metadata": {
        "colab": {
          "base_uri": "https://localhost:8080/",
          "height": 221
        },
        "id": "SomU7abJtVsI",
        "outputId": "a5ee706a-7b32-4b5f-be35-d01b42617f99"
      },
      "execution_count": null,
      "outputs": [
        {
          "output_type": "stream",
          "name": "stdout",
          "text": [
            "True\n",
            "8\n"
          ]
        },
        {
          "output_type": "error",
          "ename": "NameError",
          "evalue": "name 'age' is not defined",
          "traceback": [
            "\u001b[0;31m---------------------------------------------------------------------------\u001b[0m",
            "\u001b[0;31mNameError\u001b[0m                                 Traceback (most recent call last)",
            "\u001b[0;32m<ipython-input-27-98e755273daf>\u001b[0m in \u001b[0;36m<cell line: 5>\u001b[0;34m()\u001b[0m\n\u001b[1;32m      3\u001b[0m \u001b[0mprint\u001b[0m\u001b[0;34m(\u001b[0m\u001b[0mgetattr\u001b[0m\u001b[0;34m(\u001b[0m\u001b[0memp1\u001b[0m\u001b[0;34m,\u001b[0m \u001b[0;34m'age'\u001b[0m\u001b[0;34m)\u001b[0m\u001b[0;34m)\u001b[0m\u001b[0;34m\u001b[0m\u001b[0;34m\u001b[0m\u001b[0m\n\u001b[1;32m      4\u001b[0m \u001b[0mdelattr\u001b[0m\u001b[0;34m(\u001b[0m\u001b[0memp1\u001b[0m\u001b[0;34m,\u001b[0m \u001b[0;34m'age'\u001b[0m\u001b[0;34m)\u001b[0m\u001b[0;34m\u001b[0m\u001b[0;34m\u001b[0m\u001b[0m\n\u001b[0;32m----> 5\u001b[0;31m \u001b[0mprint\u001b[0m\u001b[0;34m(\u001b[0m\u001b[0memp1\u001b[0m\u001b[0;34m,\u001b[0m \u001b[0mage\u001b[0m\u001b[0;34m)\u001b[0m\u001b[0;34m\u001b[0m\u001b[0;34m\u001b[0m\u001b[0m\n\u001b[0m",
            "\u001b[0;31mNameError\u001b[0m: name 'age' is not defined"
          ]
        }
      ]
    },
    {
      "cell_type": "code",
      "source": [
        "print(emp.__dict__) # 멤버변수\n",
        "print(dir(emp))     # emp가 가지고 있는 기능들 -> object 상속"
      ],
      "metadata": {
        "colab": {
          "base_uri": "https://localhost:8080/"
        },
        "id": "HJJdkmAEtm63",
        "outputId": "92e7723a-b59b-469d-bf6c-d6dd64257f0c"
      },
      "execution_count": null,
      "outputs": [
        {
          "output_type": "stream",
          "name": "stdout",
          "text": [
            "{'name': '이순신', 'salary': 500}\n",
            "['__call__', '__class__', '__delattr__', '__dict__', '__dir__', '__doc__', '__eq__', '__format__', '__ge__', '__getattribute__', '__gt__', '__hash__', '__init__', '__init_subclass__', '__le__', '__lt__', '__module__', '__ne__', '__new__', '__reduce__', '__reduce_ex__', '__repr__', '__setattr__', '__sizeof__', '__str__', '__subclasshook__', '__weakref__', 'displayCount', 'displayEmployee', 'empCount', 'name', 'salary']\n"
          ]
        }
      ]
    },
    {
      "cell_type": "code",
      "source": [
        "print(\"Employee.__name__:\", Employee.__name__) # 클래스 이름\n",
        "print(\"Employee.__bases__:\", Employee.__bases__) # 부모 객체"
      ],
      "metadata": {
        "colab": {
          "base_uri": "https://localhost:8080/"
        },
        "id": "aDdlLhdiuaKH",
        "outputId": "da1e043d-b093-4fde-8e40-441ed156cc21"
      },
      "execution_count": null,
      "outputs": [
        {
          "output_type": "stream",
          "name": "stdout",
          "text": [
            "Employee.__name__: Employee\n",
            "Employee.__bases__: (<class 'object'>,)\n"
          ]
        }
      ]
    },
    {
      "cell_type": "code",
      "source": [
        "# 이름(name), 나이(age)를 저장하는 Student class를 작성하시요\n",
        "# 이름 나이를 출력하는 print 함수를 작성하시요"
      ],
      "metadata": {
        "id": "AjcZewk2_kDo"
      },
      "execution_count": null,
      "outputs": []
    },
    {
      "cell_type": "code",
      "source": [
        "# c, 자바하고 다른 점은 멤버변수를 실시간 추가 가능\n",
        "# 초기화를 반드시 __init__하지 않고 다른 함수에서도 초기화 가능\n",
        "class Student:\n",
        "  \"\"\"학생관리\"\"\"\n",
        "  def __init__(self, name, age):\n",
        "    self.name = name\n",
        "    self.age = age\n",
        "  def print(self):\n",
        "    self.kor=100\n",
        "    print(\"이름 : \", self.name, \" 나이 : \", self.age)\n",
        "    #__str__, __repr__ 둘 다 같으나 repr이 더 정교하다.(더 최근에 만들어짐)\n",
        "  def __repr__(self): # 클래스가 문자열을 요구하는 함수의 매개변수로 전달되면 호출되는 함수\n",
        "    return \"이름 \" + str(self.name) + \"나이 \" + str(self.age)\n",
        "stu=Student(\"다함께 \", 39)\n",
        "stu.mat=100\n",
        "stu.print()\n",
        "print(stu)"
      ],
      "metadata": {
        "colab": {
          "base_uri": "https://localhost:8080/"
        },
        "id": "9T2Idg1buxpb",
        "outputId": "9bf17284-0bbf-4d0a-9e47-27cb5b01ecab"
      },
      "execution_count": null,
      "outputs": [
        {
          "output_type": "stream",
          "name": "stdout",
          "text": [
            "이름 :  다함께   나이 :  39\n",
            "이름 다함께 나이 39\n"
          ]
        }
      ]
    },
    {
      "cell_type": "code",
      "source": [
        "# 얕은 복사와 깊은 복사\n",
        "import copy\n",
        "a=[1,2,3]\n",
        "b=[4,5,a] # a의 주소\n",
        "x=[a,b,100]\n",
        "y=copy.copy(x)  # 얕은 복사 : 주소로 복사됨\n",
        "print(y)\n",
        "# 값을 복사한 다음 다른 위치에 저장\n",
        "y2=copy.deepcopy(x) # 깊은 복사 : 값으로 복사\n",
        "a[0]=100\n",
        "print(y)\n",
        "print(y2)"
      ],
      "metadata": {
        "colab": {
          "base_uri": "https://localhost:8080/"
        },
        "id": "T5atvfAKAMXB",
        "outputId": "d9c3cb41-de46-4007-950f-e2d0184b7ef0"
      },
      "execution_count": null,
      "outputs": [
        {
          "output_type": "stream",
          "name": "stdout",
          "text": [
            "[[1, 2, 3], [4, 5, [1, 2, 3]], 100]\n",
            "[[100, 2, 3], [4, 5, [100, 2, 3]], 100]\n",
            "[[1, 2, 3], [4, 5, [1, 2, 3]], 100]\n"
          ]
        }
      ]
    },
    {
      "cell_type": "code",
      "source": [
        "class JustCounter:\n",
        "  __secretCount = 0 # 지역변수 #counter._JustCounter__secretCount -> 맹글링\n",
        "  def count(self):\n",
        "    self.__secretCount +=1\n",
        "    print(self.__secretCount)\n",
        "counter = JustCounter()\n",
        "counter.count()\n",
        "counter.count()\n",
        "# counter.__secretCount -> 오류\n",
        "print(counter._JustCounter__secretCount)"
      ],
      "metadata": {
        "colab": {
          "base_uri": "https://localhost:8080/"
        },
        "id": "xr_XlkaPBsCj",
        "outputId": "01c55658-5dfa-42b1-e38e-edff999a8163"
      },
      "execution_count": null,
      "outputs": [
        {
          "output_type": "stream",
          "name": "stdout",
          "text": [
            "1\n",
            "2\n",
            "2\n"
          ]
        }
      ]
    },
    {
      "cell_type": "code",
      "source": [
        "import random\n",
        "mylist = ['apple', 'banana', 'cherry']  ->셔플링(뒤죽박죽 섞임)\n",
        "random.shuffle(mylist)\n",
        "print(mylist)"
      ],
      "metadata": {
        "colab": {
          "base_uri": "https://localhost:8080/"
        },
        "id": "B1dBG1R0C2jC",
        "outputId": "5f876e80-4fc7-44d4-9b8d-ebcefdb62ce6"
      },
      "execution_count": null,
      "outputs": [
        {
          "output_type": "stream",
          "name": "stdout",
          "text": [
            "['apple', 'cherry', 'banana']\n"
          ]
        }
      ]
    },
    {
      "cell_type": "code",
      "source": [
        "# 번호공 -> 공을 돌려서 5개의 번호를 추출하는 기계 -> 공을 들어 보여주는 것\n",
        "class LottoBall:\n",
        "  def __init__(self, num):\n",
        "    self.num = num\n",
        "  def __repr__(self):\n",
        "    return str(self.num)\n",
        "class LottoMachine:\n",
        "  def __init__(self):\n",
        "    self.ballList = [] # 45개\n",
        "    for i in range(1,46):\n",
        "      self.ballList.append(LottoBall(i))\n",
        "  def selectBalls(self):\n",
        "    random.shuffle(self.ballList);\n",
        "    return self.ballList[0:6] #6개의 숫자\n",
        "class LottoUI: # interface 인터페이스\n",
        "  def __init__(self):\n",
        "    self.machine = LottoMachine()\n",
        "  def playLotto(self):\n",
        "    input(\"로또를 뽑을까요?\");\n",
        "    selectedBalls = self.machine.selectBalls()\n",
        "    for ball in selectedBalls:\n",
        "      print(ball, end=\"  \")\n",
        "lo = LottoUI()\n",
        "lo.playLotto()\n"
      ],
      "metadata": {
        "colab": {
          "base_uri": "https://localhost:8080/"
        },
        "id": "MhlP-SQEDLRA",
        "outputId": "92ad8bba-11d5-4fa9-aef6-b6d2ca864930"
      },
      "execution_count": null,
      "outputs": [
        {
          "output_type": "stream",
          "name": "stdout",
          "text": [
            "로또를 뽑을까요?\n",
            "30  36  41  33  31  12  "
          ]
        }
      ]
    },
    {
      "cell_type": "markdown",
      "source": [
        "#chaining\n",
        "\n",
        "- .으로 연속호출"
      ],
      "metadata": {
        "id": "dKZwC2uJG5QN"
      }
    },
    {
      "cell_type": "code",
      "source": [
        "#함수가 self를 리턴하면 shaining이 가능\n",
        "class Person:\n",
        "  def name(self, value):\n",
        "    self.name = value\n",
        "    return self\n",
        "  def age(self, value):\n",
        "    self.age = value\n",
        "    return self\n",
        "  def introduce(self):\n",
        "    print(\"이름 : \",self.name, \", 나이 : \", self.age)\n",
        "person = Person()\n",
        "person.name(\"에이콘\").age(21).introduce()"
      ],
      "metadata": {
        "colab": {
          "base_uri": "https://localhost:8080/"
        },
        "id": "Z1pXt5WoG8Ld",
        "outputId": "48a3a42e-315f-467f-c845-52fd1d9adb75"
      },
      "execution_count": null,
      "outputs": [
        {
          "output_type": "stream",
          "name": "stdout",
          "text": [
            "이름 :  에이콘 , 나이 :  21\n"
          ]
        }
      ]
    },
    {
      "cell_type": "code",
      "source": [
        "class Person:\n",
        "  def name(self, value):\n",
        "    self.name = value\n",
        "    return self         # self를 리턴해야 chaining 가능\n",
        "  def age(self, value):\n",
        "    self.age = value\n",
        "    return self\n",
        "  def introduce(self):\n",
        "    print(\"이름 : \",self.name, \", 나이 : \", self.age)\n",
        "person = Person()\n",
        "person.name(\"에이콘\")    #\n",
        "person.age(21)           #\n",
        "person.introduce()       # -> person.name(\"에이콘\").age(21).introduce()\n"
      ],
      "metadata": {
        "colab": {
          "base_uri": "https://localhost:8080/"
        },
        "id": "ShtueKyuIEpe",
        "outputId": "f6606daf-d6df-4645-f92f-e9affcb03915"
      },
      "execution_count": null,
      "outputs": [
        {
          "output_type": "stream",
          "name": "stdout",
          "text": [
            "이름 :  에이콘 , 나이 :  21\n"
          ]
        }
      ]
    },
    {
      "cell_type": "markdown",
      "source": [
        "# 정적 함수"
      ],
      "metadata": {
        "id": "otVh5P6PJGMF"
      }
    },
    {
      "cell_type": "code",
      "source": [
        "class StaticTest():\n",
        "  def spam(x,y):\n",
        "    print('일반함수', x, y)\n",
        "  spam = staticmethod(spam)\n",
        "\n",
        "  @staticmethod  # 데코레이터(장식자), self는 없고, 클래스변수나 멤버변수를 사용하지 말아야 함\n",
        "  def spam1(x,y):\n",
        "    print('정적함수', x, y)\n",
        "\n",
        "StaticTest.spam(1,2) # 인스턴스하지 않고도 호출이 가능한 함수\n",
        "StaticTest.spam1(1,2)\n",
        "\n",
        "d=StaticTest()\n",
        "d.spam(1,2)"
      ],
      "metadata": {
        "colab": {
          "base_uri": "https://localhost:8080/"
        },
        "id": "eJxVTofwIuZx",
        "outputId": "b761396f-f48e-4b41-dcf9-bb15982876e2"
      },
      "execution_count": null,
      "outputs": [
        {
          "output_type": "stream",
          "name": "stdout",
          "text": [
            "일반함수 1 2\n",
            "정적함수 1 2\n",
            "일반함수 1 2\n"
          ]
        }
      ]
    },
    {
      "cell_type": "code",
      "source": [
        "class StaticTest():\n",
        "  def __init__(self):\n",
        "    self.num = 100 # 인스턴스\n",
        "  def spam(x,y):\n",
        "    print('일반함수', x, y)\n",
        "  spam = staticmethod(spam)\n",
        "\n",
        "  @staticmethod  # 데코레이터(장식자), self는 없고, 클래스변수나 멤버변수를 사용하지 말아야 함\n",
        "  def spam1(x,y):\n",
        "    print('정적함수', x, y)\n",
        "    #print(self.num) -> 오류 / 인스턴스 x, self x\n",
        "# math 패키지는 전부 정적함수 (초월함수 : 대수적(+, -, *, /, **)으로 해결할 수 없는 삼각함수, 지수함수, 로그함수)\n",
        "StaticTest.spam(1,2) # 인스턴스하지 않고도 호출이 가능한 함수\n",
        "StaticTest.spam1(1,2)\n",
        "\n",
        "d=StaticTest()\n",
        "d.spam(1,2)"
      ],
      "metadata": {
        "colab": {
          "base_uri": "https://localhost:8080/"
        },
        "id": "CVtuMJcgKIFx",
        "outputId": "17f01ae6-ebf1-4d9b-f7c5-118afbb6cae7"
      },
      "execution_count": null,
      "outputs": [
        {
          "output_type": "stream",
          "name": "stdout",
          "text": [
            "일반함수 1 2\n",
            "정적함수 1 2\n",
            "일반함수 1 2\n"
          ]
        }
      ]
    },
    {
      "cell_type": "code",
      "source": [
        "# class 함수(clsaa methdd)\n",
        "# self: Test class가 실제 위치한 메모리 주소\n",
        "# 초기화 방법을 다양화하기 위해서 cls를 만들어놓음\n",
        "class Test:\n",
        "  num = 10\n",
        "  @classmethod\n",
        "  def add (cls, x, y): # 첫번 째 매개변수 cls(class) : 클래스가 만들어지기 전에 호출\n",
        "    return x+y\n",
        "\n",
        "print(Test.add(1,1))"
      ],
      "metadata": {
        "colab": {
          "base_uri": "https://localhost:8080/"
        },
        "id": "veBNOKKnN2q8",
        "outputId": "fca20275-9e8d-4853-fa7c-ee546b511aa1"
      },
      "execution_count": null,
      "outputs": [
        {
          "output_type": "stream",
          "name": "stdout",
          "text": [
            "2\n"
          ]
        }
      ]
    },
    {
      "cell_type": "code",
      "source": [
        "# self 가 있는 함수 : 멤버함수\n",
        "# 클래스 안에서 self가 없는 함수 , @staticmethod : 정적함수\n",
        "# cls, @clssmethos가 있으면 : 클래스 함수 # 인스턴스 되지 않은 가운데 멤버 함수를 사용하고자 할 때\n",
        "from datetime import date\n",
        "class Person:\n",
        "  def __init__(self, name, age): # __init__ 는 오버로딩이 안 됨\n",
        "    self.name = name\n",
        "    self.age = age\n",
        "  @classmethod # 클래스함수가 필요한 이유는 인스턴스 하기 전 클래스 요소를 쓰고 싶음-> 클래스 메서드 만듬, 정적함수는 사용불가\n",
        "  def fromBirthYear(cls, name, birthYear): # 생일로 입력\n",
        "    return cls(name, date.today().year - birthYear)\n",
        "  def display(self):\n",
        "    print(self.name + \"의 나이는\" + str(self.age))\n",
        "\n",
        "person = Person(\"감강찬\", 19)\n",
        "person.display()\n",
        "person1 = Person.fromBirthYear('을지문덕', 1985)\n",
        "person1.display()"
      ],
      "metadata": {
        "colab": {
          "base_uri": "https://localhost:8080/"
        },
        "id": "2jACckE4OTpr",
        "outputId": "bffdf286-4c36-4715-984f-d4a24ea4792d"
      },
      "execution_count": null,
      "outputs": [
        {
          "output_type": "stream",
          "name": "stdout",
          "text": [
            "감강찬의 나이는19\n",
            "을지문덕의 나이는40\n"
          ]
        }
      ]
    },
    {
      "cell_type": "code",
      "source": [
        "# 사용자 정의 데이터 타입\n",
        "# c, 자바에서는 반드시 상속을 해야 다른 데이터 타입을 가리킬 수 있음\n",
        "# design pattern\n",
        "class Guard:\n",
        "  def three_point(self):\n",
        "    print(\"가드는 3점슛 장착\")\n",
        "  def apass(self):\n",
        "    print(\"가드의 핵심은 에이패스지\")\n",
        "class Jordan:\n",
        "  def three_point(self):\n",
        "    print(\"조단은 3점슛 장착\")\n",
        "  def apass(self):\n",
        "    print(\"조단은 에이패스 가능\")\n",
        "def inhecourt(duck): # 대표타입 (delegate : 대신자)\n",
        "  duck.three_point();\n",
        "  duck.apass()\n",
        "gu = Guard()\n",
        "jo = Jordan()\n",
        "inhecourt(gu)\n",
        "inhecourt(jo)"
      ],
      "metadata": {
        "colab": {
          "base_uri": "https://localhost:8080/"
        },
        "id": "ePWWC5wqQhjr",
        "outputId": "a1639845-cf1a-4772-b9da-255f4eb3f7de"
      },
      "execution_count": null,
      "outputs": [
        {
          "output_type": "stream",
          "name": "stdout",
          "text": [
            "가드는 3점슛 장착\n",
            "가드의 핵심은 에이패스지\n",
            "조단은 3점슛 장착\n",
            "조단은 에이패스 가능\n"
          ]
        }
      ]
    },
    {
      "cell_type": "code",
      "source": [
        "class Guard:\n",
        "  def three_point(self):\n",
        "    print(\"가드는 3점슛 장착\")\n",
        "  def apass(self):\n",
        "    print(\"가드의 핵심은 에이패스지\")\n",
        "class Jordan:\n",
        "  def three_point(self):\n",
        "    print(\"조단은 3점슛 장착\")\n",
        "  def apass(self):\n",
        "    print(\"조단은 에이패스 가능\")\n",
        "class Jordan2:\n",
        "  def three_point(self):\n",
        "    print(\"조단은 3점슛 장착\")\n",
        "  def apass(self):\n",
        "    print(\"조단은 에이패스 가능\")\n",
        "def inhecourt(duck): # 대표타입 (delegate : 대신자)\n",
        "  duck.three_point();\n",
        "  duck.apass()\n",
        "gu = Guard()\n",
        "jo = Jordan()\n",
        "jo2 = Jordan2()\n",
        "inhecourt(gu)\n",
        "inhecourt(jo)\n",
        "inhecourt(jo2)"
      ],
      "metadata": {
        "id": "K5_-JQhpT0Cc",
        "colab": {
          "base_uri": "https://localhost:8080/"
        },
        "outputId": "75ea8520-c431-434f-aff3-3632b0e822b9"
      },
      "execution_count": null,
      "outputs": [
        {
          "output_type": "stream",
          "name": "stdout",
          "text": [
            "가드는 3점슛 장착\n",
            "가드의 핵심은 에이패스지\n",
            "조단은 3점슛 장착\n",
            "조단은 에이패스 가능\n",
            "조단은 3점슛 장착\n",
            "조단은 에이패스 가능\n"
          ]
        }
      ]
    },
    {
      "cell_type": "code",
      "source": [
        "import math\n",
        "class Point:\n",
        "  def __init__(self, x, y):\n",
        "    self.x = x\n",
        "    self.y = y\n",
        "  def __repr__(self):\n",
        "    return f\" 좌표는 {self.x}, {self.y}\"\n",
        "  def dist(self, other): # other에는 다른 포인트가 입력\n",
        "    distance = math.sqrt((self.x - other.x)**2 + (self.y - other.y)**2)\n",
        "    return distance\n",
        "  def collision(self,other):\n",
        "    return self.dist(other) < 3 # True / False\n",
        "  def collisionUI(self, other):\n",
        "    if self.collision(other):\n",
        "      print(\"충돌했습니다.\")\n",
        "    else:\n",
        "      print(\"충돌하지 않았습니다.\")\n",
        "first = Point(7,3)\n",
        "second = Point(4,7)\n",
        "print(first)\n",
        "print(second)\n",
        "print(\"두점 사이의 거리는 = \", first.dist(second))\n",
        "if first.collision(second):\n",
        "  print(\"충돌했습니다.\")\n",
        "else:\n",
        "  print(\"충돌하지 않았습니다.\")\n",
        "first.collisionUI(second)"
      ],
      "metadata": {
        "colab": {
          "base_uri": "https://localhost:8080/"
        },
        "id": "4JmyQ7rsWAv1",
        "outputId": "746324c0-1844-428e-9047-fe564a5d92c7"
      },
      "execution_count": null,
      "outputs": [
        {
          "output_type": "stream",
          "name": "stdout",
          "text": [
            " 좌표는 7, 3\n",
            " 좌표는 4, 7\n",
            "두점 사이의 거리는 =  5.0\n",
            "충돌하지 않았습니다.\n",
            "충돌하지 않았습니다.\n"
          ]
        }
      ]
    },
    {
      "cell_type": "code",
      "source": [
        "# 원을 표현해서 충동여부 확인\n",
        "class Circle:\n",
        "  def __init__(self, center, radius):\n",
        "    self.center = center\n",
        "    self.radius = radius\n",
        "  def area_calc(self):\n",
        "    area = math.pi * float(self.radius**2)\n",
        "    return area\n",
        "  def perimeter(self):\n",
        "    peri = 2 * math.pi * self.radius\n",
        "    return peri\n",
        "  def collision(self, other):\n",
        "    if self.center.dist(other.center) < (self.radius + other.radius):\n",
        "      result = \"충돌한다.\"\n",
        "    else:\n",
        "      result = \"충돌하지 않는다.\"\n",
        "    return result\n",
        "  def __repr__(self):\n",
        "    return \"원의 중심\" + str(self.center) + \"반지름 : \" + str(self.radius)\n",
        "first = Point(7,3)\n",
        "second = Point(4,7)\n",
        "cir = Circle(first, 1)\n",
        "cir2 = Circle(second, 4)\n",
        "print(cir)\n",
        "print(cir2)\n",
        "print(cir.collision(cir2))\n",
        "\n"
      ],
      "metadata": {
        "colab": {
          "base_uri": "https://localhost:8080/"
        },
        "id": "JeOdW6E7alBH",
        "outputId": "54fb9bba-4a6d-4c93-eae6-f12c766d3c91"
      },
      "execution_count": null,
      "outputs": [
        {
          "output_type": "stream",
          "name": "stdout",
          "text": [
            "원의 중심좌표는 7, 3반지름 : 1\n",
            "원의 중심좌표는 4, 7반지름 : 4\n",
            "충돌하지 않는다.\n"
          ]
        }
      ]
    },
    {
      "cell_type": "code",
      "source": [
        "first.dist(second)"
      ],
      "metadata": {
        "colab": {
          "base_uri": "https://localhost:8080/"
        },
        "id": "UF-mTdLTgGaT",
        "outputId": "de61cf2b-9142-4304-a901-fc1ddfea2c79"
      },
      "execution_count": null,
      "outputs": [
        {
          "output_type": "execute_result",
          "data": {
            "text/plain": [
              "5.0"
            ]
          },
          "metadata": {},
          "execution_count": 67
        }
      ]
    },
    {
      "cell_type": "code",
      "source": [
        "class Circle:\n",
        "  def __init__(self, center, radius):\n",
        "    self.center = center\n",
        "    self.radius = radius\n",
        "  def area_calc(self):\n",
        "    area = math.pi * float(self.radius**2)\n",
        "    return area\n",
        "  def perimeter(self):\n",
        "    peri = 2 * math.pi * self.radius\n",
        "    return peri\n",
        "  def collision(self, other):\n",
        "    if self.center.dist(other.center) < (self.radius + other.radius):\n",
        "      result = \"충돌한다.\"\n",
        "    else:\n",
        "      result = \"충돌하지 않는다.\"\n",
        "    return result\n",
        "  def __repr__(self):\n",
        "    return \"원의 중심\" + str(self.center) + \"반지름 : \" + str(self.radius)\n",
        "first = Point(7,3)\n",
        "second = Point(4,7)\n",
        "cir = Circle(first, 1)\n",
        "cir2 = Circle(second, 7)\n",
        "print(cir)\n",
        "print(cir2)\n",
        "print(cir.collision(cir2))"
      ],
      "metadata": {
        "colab": {
          "base_uri": "https://localhost:8080/"
        },
        "id": "nRXeATzVgPbz",
        "outputId": "009e073b-b684-4cdf-a4b4-1fbb48d8059e"
      },
      "execution_count": null,
      "outputs": [
        {
          "output_type": "stream",
          "name": "stdout",
          "text": [
            "원의 중심좌표는 7, 3반지름 : 1\n",
            "원의 중심좌표는 4, 7반지름 : 7\n",
            "충돌한다.\n"
          ]
        }
      ]
    },
    {
      "cell_type": "code",
      "source": [
        "# 문제\n",
        "# 사각형을 표현하는 Rectangle 클래스를 작성하시요\n",
        "# 면적을 구하는 함수를 작성(area)\n",
        "# 둘레를 구하는 함수를 작성(perimeter)\n",
        "# 대각선의 길이를 구하는 함수를 작성(diagonal_dist)\n",
        "class Rectangle:\n",
        "  def __init__(self, po1, po2):\n",
        "    self.po1 = po1\n",
        "    self.po2 = po2\n",
        "  def area_calc(self):\n",
        "    area = abs(self.po2.x - self.po1.x) * abs(self.po2.y - self.po1.y)\n",
        "    return area\n",
        "  def perimeter(self):\n",
        "    peri = (abs(self.po2.x - self.po1.x) + abs(self.po2.y - self.po1.y)) *2  # abs 는 절대값\n",
        "    return peri\n",
        "  def diagonal_dist(self):\n",
        "    diag = math.sqrt((abs(self.po2.x - self.po1.x) **2) + (abs(self.po2.x - self.po1.y) **2))\n",
        "    return diag\n",
        "  def __repr__(self):\n",
        "    return \"두점 :  \" + str(self.po1) + str(self.po2) + \" 면적 : \" + str(self.area_calc()) + \" 둘레 : \" + str(self.perimeter()) + \" 대각선의 길이 : \" + str(round(self.diagonal_dist(),2))\n",
        "\n",
        "point1 = Point(2,4)\n",
        "point2 = Point(12, 14)\n",
        "rec = Rectangle(point1, point2)\n",
        "print(rec)"
      ],
      "metadata": {
        "colab": {
          "base_uri": "https://localhost:8080/"
        },
        "id": "BDLGYSgRprBe",
        "outputId": "feeafa35-5b5b-49d5-be1a-93203ef6c74a"
      },
      "execution_count": null,
      "outputs": [
        {
          "output_type": "stream",
          "name": "stdout",
          "text": [
            "두점 :   좌표는 2, 4 좌표는 12, 14 면적 : 100 둘레 : 40 대각선의 길이 : 12.81\n"
          ]
        }
      ]
    }
  ]
}