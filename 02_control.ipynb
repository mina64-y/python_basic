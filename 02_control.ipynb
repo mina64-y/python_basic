{
  "nbformat": 4,
  "nbformat_minor": 0,
  "metadata": {
    "colab": {
      "provenance": [],
      "authorship_tag": "ABX9TyP9Mtujsgp4sHYTB+UP3bv1",
      "include_colab_link": true
    },
    "kernelspec": {
      "name": "python3",
      "display_name": "Python 3"
    },
    "language_info": {
      "name": "python"
    }
  },
  "cells": [
    {
      "cell_type": "markdown",
      "metadata": {
        "id": "view-in-github",
        "colab_type": "text"
      },
      "source": [
        "<a href=\"https://colab.research.google.com/github/mina64-y/python_basic/blob/main/02_control.ipynb\" target=\"_parent\"><img src=\"https://colab.research.google.com/assets/colab-badge.svg\" alt=\"Open In Colab\"/></a>"
      ]
    },
    {
      "cell_type": "markdown",
      "source": [
        "#제어문 (if, for, try ~ except(예외처리))\n",
        "- 순서적으로 실행\n",
        "- 입력 -> 처리 -> 출력"
      ],
      "metadata": {
        "id": "smO7R6kWkZWe"
      }
    },
    {
      "cell_type": "code",
      "execution_count": null,
      "metadata": {
        "colab": {
          "base_uri": "https://localhost:8080/"
        },
        "id": "sh9gn07_j_IO",
        "outputId": "bff112c7-3c44-4b98-b26b-f00224fa326f"
      },
      "outputs": [
        {
          "output_type": "stream",
          "name": "stdout",
          "text": [
            "80이하\n"
          ]
        }
      ],
      "source": [
        "score = 70\n",
        "if score >= 80:  # 관계연산자, block - 들여쓰기\n",
        "  print(\"80이상\")\n",
        "else:\n",
        "  print(\"80이하\")"
      ]
    },
    {
      "cell_type": "code",
      "source": [
        "# 삼항연산자\n",
        "x = -5\n",
        "ans = '양수' if x>=0 else '음수'\n",
        "print(ans)"
      ],
      "metadata": {
        "colab": {
          "base_uri": "https://localhost:8080/"
        },
        "id": "XcVbNmP4nP7l",
        "outputId": "2197fd50-01e8-432f-f7e9-8a7d90df1a79"
      },
      "execution_count": null,
      "outputs": [
        {
          "output_type": "stream",
          "name": "stdout",
          "text": [
            "음수\n"
          ]
        }
      ]
    },
    {
      "cell_type": "code",
      "source": [
        "city = ''  # False 초기화\n",
        "if not city:\n",
        "  print('empty city')\n",
        "if len(city) > 0:\n",
        "  print(city)"
      ],
      "metadata": {
        "colab": {
          "base_uri": "https://localhost:8080/"
        },
        "id": "Y26x-50XoDiw",
        "outputId": "caee75ca-5ad8-4749-9c16-03c55b67c5ef"
      },
      "execution_count": null,
      "outputs": [
        {
          "output_type": "stream",
          "name": "stdout",
          "text": [
            "empty city\n"
          ]
        }
      ]
    },
    {
      "cell_type": "code",
      "source": [
        "city = 'incheon'\n",
        "cities = ['seoul', 'suwon', 'incheon']\n",
        "#print(cities.index(\"ddd\")) # 없을 떄 에러\n",
        "print(cities.count(\"ddd\"))\n",
        "if x in cities: cities.index(\"ddd\")\n",
        "print(x)\n",
        "if city in cities:\n",
        "  print(cities.index(city))"
      ],
      "metadata": {
        "colab": {
          "base_uri": "https://localhost:8080/"
        },
        "id": "ED0_U8DwokJB",
        "outputId": "5f2f214c-1f31-49f2-dd88-a21bdf196e7d"
      },
      "execution_count": null,
      "outputs": [
        {
          "output_type": "stream",
          "name": "stdout",
          "text": [
            "0\n",
            "-5\n",
            "2\n"
          ]
        }
      ]
    },
    {
      "cell_type": "code",
      "source": [
        "city = 'incheon'\n",
        "cities = ['seoul', 'suwon', 'incheon']\n",
        "#print(cities.index(\"ddd\")) # 없을 떄 에러\n",
        "print(cities.count(\"ddd\"))\n",
        "if \"ddd\" in cities:\n",
        "  print(cities.index(\"ddd\"))\n",
        "if city in cities:\n",
        "  print(cities.index(city))"
      ],
      "metadata": {
        "colab": {
          "base_uri": "https://localhost:8080/"
        },
        "id": "-rqoCoNC0eRM",
        "outputId": "45393ef9-32f5-481b-e144-98e52bdda23b"
      },
      "execution_count": null,
      "outputs": [
        {
          "output_type": "stream",
          "name": "stdout",
          "text": [
            "0\n",
            "2\n"
          ]
        }
      ]
    },
    {
      "cell_type": "code",
      "source": [
        "# 바다 코끼리 연산자\n",
        "# 증가변수\n",
        "# i = i + 1\n",
        "# i += 1\n",
        "# 누적변수\n",
        "# hab = hab + 1\n",
        "sample_str = \"Hello\"\n",
        "# 값을 대입하면서 결과를 리턴\n",
        "if (length := len(sample_str)) >= 5:\n",
        "  print(f\"문자열 길이: {length}\")\n",
        "else:\n",
        "  print(f\"문자열 길이: {length}\")"
      ],
      "metadata": {
        "colab": {
          "base_uri": "https://localhost:8080/"
        },
        "id": "1gNu60L8prvQ",
        "outputId": "2aff4d0c-134d-44e9-ac26-cedffed0263b"
      },
      "execution_count": null,
      "outputs": [
        {
          "output_type": "stream",
          "name": "stdout",
          "text": [
            "문자열 길이: 5\n"
          ]
        }
      ]
    },
    {
      "cell_type": "markdown",
      "source": [
        "# 수입과 지출을 입력받아 순수익을 출력하는 프로그램을 작성하시오\n",
        "- 순수익, 순수익, 손익분기점"
      ],
      "metadata": {
        "id": "VwrcJQiTriJv"
      }
    },
    {
      "cell_type": "code",
      "source": [
        "costs = eval(input(\"총 지출(비용)을 입력하시요\"))\n",
        "income = eval(input(\"총수익을 입력하시요\"))\n",
        "if costs == income:\n",
        "  result = \"손익분기점입니다.\"\n",
        "else:\n",
        "  if costs < income:\n",
        "    profit = income - costs\n",
        "    result = \"순수익 = {0:,.2f}.\".format(round(profit,2)) #float\n",
        "  else:\n",
        "      loss = costs - income\n",
        "      result = \"순손실 = ${0:,.2f}.\".format(round(loss,2))\n",
        "print(result)"
      ],
      "metadata": {
        "colab": {
          "base_uri": "https://localhost:8080/"
        },
        "id": "johclUVzqJ30",
        "outputId": "3f01467b-b27c-44de-c860-e2bb0e6d6827"
      },
      "execution_count": null,
      "outputs": [
        {
          "output_type": "stream",
          "name": "stdout",
          "text": [
            "총 지출(비용)을 입력하시요100\n",
            "총수익을 입력하시요50\n",
            "순손실 = $50.00.\n"
          ]
        }
      ]
    },
    {
      "cell_type": "code",
      "source": [
        "costs = eval(input(\"총지출(비용)을 입력하시요\"))\n",
        "income = eval(input(\"총수익을 입력하시요\"))\n",
        "if costs == income:\n",
        "  result = \"손익분기점입니다.\"\n",
        "elif costs < income:\n",
        "  profit = income - costs\n",
        "  result = \"순수익 = {0:,.2f}.\".format(round(profit,2))\n",
        "else:\n",
        "  loss = costs - income\n",
        "  result = \"순손실 = ${0:,.2f}.\".format(round(loss,2))\n",
        "print(result)\n"
      ],
      "metadata": {
        "colab": {
          "base_uri": "https://localhost:8080/"
        },
        "id": "KdrCIAAwtLmy",
        "outputId": "bfb3494e-e734-4253-95a3-2acf7203f39a"
      },
      "execution_count": null,
      "outputs": [
        {
          "output_type": "stream",
          "name": "stdout",
          "text": [
            "총지출(비용)을 입력하시요1000\n",
            "총수익을 입력하시요500\n",
            "순손실 = $500.00.\n"
          ]
        }
      ]
    },
    {
      "cell_type": "code",
      "source": [
        "num1 = input(\"\") #숫자하고 문자\n",
        "num2 = input(\"\")\n",
        "# 가능한 경우의 수(4)\n",
        "# 숫자, 숫자가 들어오면 합해서 출력\n",
        "# 첫번째 수가 숫자가 아닐지 두번째 숫자가 숫자가 아닌지를 출력\n",
        "# 문자인 경우를 나누어서 출력해서 보시요\n",
        "# isdigit(), isalpha()   -> 숫자인지 문자인지 구분하는 함수\n",
        "if num1.isdigit() and num2.isdigit():\n",
        "  print(\"합계는\", str(eval(num1)+eval(num2))+\".\")\n",
        "elif not num1.isdigit():\n",
        "  if not num2.isdigit():\n",
        "    print(\"둘 다 숫자가 아님.\")\n",
        "  else:\n",
        "     print(\"첫번째 숫자가 숫자가 아님\")\n",
        "else:\n",
        "  print(\"두번쨰 숫자가 숫자가 아님\")\n"
      ],
      "metadata": {
        "colab": {
          "base_uri": "https://localhost:8080/"
        },
        "id": "HZ_a7cmhtpJf",
        "outputId": "1f48b25d-bdae-4e2f-8acf-0e6f4686ed23"
      },
      "execution_count": null,
      "outputs": [
        {
          "output_type": "stream",
          "name": "stdout",
          "text": [
            "아\n",
            "1\n",
            "첫번째 숫자가 숫자가 아님\n"
          ]
        }
      ]
    },
    {
      "cell_type": "code",
      "source": [
        "# color , mode\n",
        "#         STEADY      FLASHING\n",
        "# BLUE    화창한날    구름낀 날\n",
        "# RED     비오는날    눈오는 날"
      ],
      "metadata": {
        "id": "YeiHXen4wFH-"
      },
      "execution_count": null,
      "outputs": []
    },
    {
      "cell_type": "code",
      "source": [
        "color = input(\"색입력(BLUE or RED):\")\n",
        "mode = input(\" mode 입력 (STEADY or FLASHING):\")\n",
        "color = color.upper()\n",
        "mode = mode.upper()\n",
        "\n",
        "if color == \"BLUE\" and  mode == \"STEADY\":\n",
        "  print(\"화창한 날\")\n",
        "elif color == \"BLUE\" and mode ==\"FLASHING\":\n",
        "  print(\"구름낀 날\")\n",
        "elif color == \"RED\" and mode == \"STEADY\":\n",
        "  print(\"비 오는 날\")\n",
        "else:\n",
        "  print(\"눈 오는 날\")"
      ],
      "metadata": {
        "colab": {
          "base_uri": "https://localhost:8080/"
        },
        "id": "J_MyIGwUwe3u",
        "outputId": "50ca08bd-e3bb-46a7-90a0-9a4cb2862d26"
      },
      "execution_count": null,
      "outputs": [
        {
          "output_type": "stream",
          "name": "stdout",
          "text": [
            "색입력(BLUE or RED):red\n",
            " mode 입력 (STEADY or FLASHING):flashing\n",
            "눈 오는 날\n"
          ]
        }
      ]
    },
    {
      "cell_type": "code",
      "source": [
        "color = input(\"색입력(BLUE or RED):\")\n",
        "mode = input(\" mode 입력 (STEADY or FLASHING):\")\n",
        "color = color.upper()\n",
        "mode = mode.upper()\n",
        "#단일\n",
        "result = \"\"\n",
        "if color == \"BLUE\" and  mode == \"STEADY\":\n",
        "  result = \"화창한 날\"\n",
        "elif color == \"BLUE\" and mode ==\"FLASHING\":\n",
        "  result =\"구름낀 날\"\n",
        "elif color == \"RED\" and mode == \"STEADY\":\n",
        "  result =\"비 오는 날\"\n",
        "else:\n",
        "  result = \"눈 오는 날\"\n",
        "print(\"예측된 날씨는\", result)"
      ],
      "metadata": {
        "colab": {
          "base_uri": "https://localhost:8080/"
        },
        "id": "XpnyeLua1G18",
        "outputId": "ba135c75-a687-4176-a772-92d621e50af3"
      },
      "execution_count": null,
      "outputs": [
        {
          "output_type": "stream",
          "name": "stdout",
          "text": [
            "색입력(BLUE or RED):\n",
            " mode 입력 (STEADY or FLASHING):\n",
            "예측된 날씨는 눈 오는 날\n"
          ]
        }
      ]
    },
    {
      "cell_type": "code",
      "source": [
        "# 중첩구조\n",
        "result = \"\"\n",
        "if color == \"BLUE\":\n",
        "  if mode == \"STEADY\":\n",
        "    result = \"화창한 날\"\n",
        "  else:\n",
        "    result =\"구름낀 날\"\n",
        "elif color == \"RED\" and mode == \"STEADY\":\n",
        "  result =\"비 오는 날\"\n",
        "else:\n",
        "  result = \"눈 오는 날\"\n",
        "print(\"예측된 날씨는\", result)"
      ],
      "metadata": {
        "id": "rEKD93X0175d"
      },
      "execution_count": null,
      "outputs": []
    },
    {
      "cell_type": "code",
      "source": [
        "# 점수를 입력받아서 90 이상 : 'A', 80 점 이상: 'B', 70점 이상: 'C', 60점 이상: 'D'\n",
        "# 나머지는 F학점으로 출력하시요\n",
        "# 경우의 수 5개 (elif:3)\n",
        "print('점수입력 : ', end='')\n",
        "jumsu = int(input())\n",
        "if jumsu >= 90 : print('A')\n",
        "elif jumsu >= 80 : print('B')\n",
        "elif jumsu >= 70 : print('C')\n",
        "elif jumsu >= 60 : print('D')\n",
        "else: print('F')"
      ],
      "metadata": {
        "colab": {
          "base_uri": "https://localhost:8080/"
        },
        "id": "Q-UTa43F2f4z",
        "outputId": "d8ed3ae9-b164-43ae-85c6-9d0841e296c9"
      },
      "execution_count": null,
      "outputs": [
        {
          "output_type": "stream",
          "name": "stdout",
          "text": [
            "점수입력 : 60\n",
            "D\n"
          ]
        }
      ]
    },
    {
      "cell_type": "code",
      "source": [
        "# 과일을 100.50원에 세금 12.5%를 붙여서 팔았다.\n",
        "# 세금과 매출액이 얼마인지 출력하시요(소수점 2째 자리까지 표현하시요)\n",
        "\n",
        "price = 100.50\n",
        "tax = 12.5 / 100\n",
        "tax_amount = price * tax\n",
        "sales_amount = price + tax_amount\n",
        "print(\"과일에 대한 세금=\", round(tax_amount,2), \"매출액=\", round(sales_amount,2))"
      ],
      "metadata": {
        "colab": {
          "base_uri": "https://localhost:8080/"
        },
        "id": "tGz56Qf64dQb",
        "outputId": "a9d0d2f0-c056-4343-a321-e03cc175b9e0"
      },
      "execution_count": null,
      "outputs": [
        {
          "output_type": "stream",
          "name": "stdout",
          "text": [
            "과일에 대한 세금= 12.56 매출액= 113.06\n"
          ]
        }
      ]
    },
    {
      "cell_type": "code",
      "source": [
        "# 과일의 개수를 입력받아서 총 매출액과 총  세금액을 출력하시요\n",
        "price = 100.50\n",
        "tax = 12.5 / 100\n",
        "tax_amount = price * tax\n",
        "sales_amount = price + tax_amount\n",
        "\n",
        "amount = eval(input(\"판매한 과일 개수를 입력하시요\"))\n",
        "total_tax = tax_amount * amount\n",
        "total_amount = sales_amount * amount\n",
        "print(amount, \"의 개수를 팔았을 때\",\"총 세금액=\",round(total_tax,2), \"총 매출액=\", round(total_amount,2))\n"
      ],
      "metadata": {
        "colab": {
          "base_uri": "https://localhost:8080/"
        },
        "id": "fpP40HDp6EHq",
        "outputId": "6081df02-0e3c-48da-e146-d39e3f2822d9"
      },
      "execution_count": null,
      "outputs": [
        {
          "output_type": "stream",
          "name": "stdout",
          "text": [
            "판매한 과일 개수를 입력하시요50\n",
            "50 의 개수를 팔았을 때 총 세금액= 628.12 총 매출액= 5653.12\n"
          ]
        }
      ]
    },
    {
      "cell_type": "code",
      "source": [
        "# 제곱미터로 표현되는 아파트 면적을 평형으로 계산하여 종류를 판정하시요\n",
        "# 평형수 = 제곱미터 / 3.305\n",
        "# 대형(30이상), 중형(30~17이상), 소형은 (17미만)\n",
        "\n",
        "square_area = int(input(\"제곱미터를 입력하시요:\"))\n",
        "size = square_area / 3.305\n",
        "if size  >= 30:\n",
        "  aptsize = \"대형\"\n",
        "elif size >= 17:\n",
        "  aptsize = \"중형\"\n",
        "else:\n",
        "  aptsize = \"소형\"\n",
        "print(f\"아파트 유형은 {aptsize} 입니다\")\n",
        "\n"
      ],
      "metadata": {
        "colab": {
          "base_uri": "https://localhost:8080/"
        },
        "id": "ZZrJwGW978kq",
        "outputId": "d27434b8-cf8d-4b7f-f361-55ec0b9d67d0"
      },
      "execution_count": null,
      "outputs": [
        {
          "output_type": "stream",
          "name": "stdout",
          "text": [
            "제곱미터를 입력하시요:500\n",
            "아파트 유형은 대형 입니다\n"
          ]
        }
      ]
    },
    {
      "cell_type": "code",
      "source": [
        "# 날 수를 입력하면 이를 초로 변경하는 프로그램을 작성하시요\n",
        "# 1일 = 24시간, 1시간은 60분, 1분은 60초\n",
        "days = int(input('날 수를 입력하시요:'))\n",
        "sec = days * 24 * 60 * 60\n",
        "print(sec, '초')"
      ],
      "metadata": {
        "colab": {
          "base_uri": "https://localhost:8080/"
        },
        "id": "ZTzc21pR-TDp",
        "outputId": "ae0560f2-0a10-4f64-d58c-675b6099371d"
      },
      "execution_count": null,
      "outputs": [
        {
          "output_type": "stream",
          "name": "stdout",
          "text": [
            "날 수를 입력하시요:5\n",
            "432000 초\n"
          ]
        }
      ]
    },
    {
      "cell_type": "code",
      "source": [
        "# 문제 : 년도와 월 그리고 일을 분리해서 출력해보시요\n",
        "# 01234567\n",
        "#19951031\n",
        "import datetime\n",
        "dt = datetime.datetime.now()\n",
        "print(dt)\n",
        "print(dt.year)\n",
        "print(dt.month)\n",
        "print(dt.day)\n",
        "\n",
        "age = input(\"생년월일(19951031)을 입력하시오\")\n",
        "year = int(age[0:4])\n",
        "month = int(age[4:6])\n",
        "day = int(age[6:])\n",
        "\n",
        "dt = datetime.datetime.now()\n",
        "print(dt)\n",
        "\n",
        "# 질문 : -가 가능한 변수는\n",
        "year_diff = dt.year - year\n",
        "month_diff = dt.month - month\n",
        "day_diff = dt.day - day\n",
        "# - 값 조정\n",
        "if day_diff < 0:\n",
        "  month_diff -=1\n",
        "if month_diff < 0:\n",
        "  year_diff -=1\n",
        "\n",
        "print(\"당신의 나이는 \", year_diff + 1)\n",
        "if year_diff < 18:\n",
        "  print(\"당신은 미성년자입니다.\")\n",
        "else:\n",
        "  print(\"당신은 미성년자가 아닙니다.\")\n",
        "\n"
      ],
      "metadata": {
        "colab": {
          "base_uri": "https://localhost:8080/"
        },
        "id": "aX1izcMQ-0uY",
        "outputId": "4a7b0710-4089-4262-efb8-f8fc579a810a"
      },
      "execution_count": null,
      "outputs": [
        {
          "output_type": "stream",
          "name": "stdout",
          "text": [
            "2025-01-02 23:30:50.462589\n",
            "2025\n",
            "1\n",
            "2\n",
            "생년월일(19951031)을 입력하시오10020202\n",
            "2025-01-02 23:30:57.632352\n",
            "당신의 나이는  1023\n",
            "당신은 미성년자가 아닙니다.\n"
          ]
        }
      ]
    },
    {
      "cell_type": "code",
      "source": [
        "# 놀이공원 매표소 단체 입장료 계산하기\n",
        "# 조건 : 초등(5,000원), 청소년(10,000원), 일반인(15,000원), 경로대상(3,000원)\n",
        "# 팀별할인 카드 확인\n",
        "# 카드없음: 할인무, 일반카드: 10%, vip:20%\n",
        "# 입장하는 사람들의 입원수를 입력받아 입장료를 계산하시오(카드할인 종류 입력)\n",
        "ele_rate = 5000\n",
        "mid_rate = 10000\n",
        "adult_rate = 15000\n",
        "senior_rate = 3000\n",
        "\n",
        "ele = int(input(\"초등학생 :\"))\n",
        "mid = int(input(\"청소년 :\"))\n",
        "adult = int(input(\"성인 : \"))\n",
        "senior = int(input(\"경로대상 : \"))\n",
        "\n",
        "total_rate = (ele * ele_rate) + (mid * mid_rate) + (adult * adult_rate) + (senior * senior_rate)\n",
        "print(total_rate)\n",
        "\n",
        "price = input(\"결제 방법(CARD or CASH or VIP) : \")\n",
        "price = price.upper()\n",
        "if price == \"CARD\":\n",
        "  total_price = total_rate - (total_rate * 0.1)\n",
        "elif price == \"VIP\":\n",
        "  total_price = total_rate - (total_rate * 0.2)\n",
        "else:\n",
        "    total_price = total_rate\n",
        "print(f\"당신의 결제 금액은 {total_price}원입니다.\")\n"
      ],
      "metadata": {
        "colab": {
          "base_uri": "https://localhost:8080/"
        },
        "id": "5az60mwbCF8H",
        "outputId": "e2aea50c-2b31-4183-99ef-874db26700c6"
      },
      "execution_count": null,
      "outputs": [
        {
          "output_type": "stream",
          "name": "stdout",
          "text": [
            "초등학생 :5\n",
            "청소년 :3\n",
            "성인 : 5\n",
            "경로대상 : 3\n",
            "139000\n",
            "결제 방법(CARD or CASH or VIP) : card\n",
            "당신의 결제 금액은 125100.0원입니다.\n"
          ]
        }
      ]
    }
  ]
}